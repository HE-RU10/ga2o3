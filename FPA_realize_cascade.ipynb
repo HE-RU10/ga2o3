{
 "cells": [
  {
   "cell_type": "code",
   "execution_count": 18,
   "id": "98c1eb68",
   "metadata": {},
   "outputs": [],
   "source": [
    "import pandas as pd\n",
    "import numpy as np\n",
    "import matplotlib.pyplot as plt\n",
    "import os \n",
    "%matplotlib inline\n",
    "import ase\n"
   ]
  },
  {
   "cell_type": "code",
   "execution_count": 20,
   "id": "9f7e1681",
   "metadata": {},
   "outputs": [
    {
     "name": "stdout",
     "output_type": "stream",
     "text": [
      "(array([12]), array([15]))\n",
      "(array([10]), array([30]))\n"
     ]
    }
   ],
   "source": [
    "def osamples(n_samples):\n",
    "    nfpa = np.random.normal(loc=26.42496428571428, scale=0.7598622819300876, size=n_samples)\n",
    "    nfpa=np.round(nfpa).astype(int)\n",
    "    gafpa=nfpa*16/28\n",
    "    gafpa=np.round(gafpa).astype(int)\n",
    "    ofpa=nfpa-gafpa\n",
    "    return ofpa, gafpa\n",
    "print(osamples(1))\n",
    "#38.757275 1.5456876137742062\n",
    "def gasamples(n_samples):\n",
    "    nfpa = np.random.normal(loc=38.757275, scale=1.5456876137742062, size=n_samples)\n",
    "    nfpa=np.round(nfpa).astype(int)\n",
    "    gafpa=nfpa*30/40\n",
    "    gafpa=np.round(gafpa).astype(int)\n",
    "    ofpa=nfpa-gafpa\n",
    "    return ofpa, gafpa\n",
    "print(gasamples(1))\n",
    "def spherical_to_cartesian(r, phi, theta):\n",
    "    \"\"\" convert spherical coordinates (physics convention) to cart. vector\n",
    "        input angles in DEGREES! \"\"\"\n",
    "    phi = np.deg2rad(phi)\n",
    "    theta = np.deg2rad(theta)\n",
    "    x = r * np.sin(theta) * np.cos(phi)\n",
    "    y = r * np.sin(theta) * np.sin(phi)\n",
    "    z = r * np.cos(theta)\n",
    "    return np.array([x, y, z])\n",
    "\n",
    "def random_direction(seed=None):\n",
    "    \"\"\" generate random direction in spherical coordinates \"\"\"\n",
    "    np.random.seed(seed)  # when None, seeds from /dev/urandom if available, else clock\n",
    "    theta = np.arccos(2.0 * np.random.random() - 1)\n",
    "    phi = 2.0 * np.random.random() * np.pi\n",
    "    theta = np.rad2deg(theta)\n",
    "    phi = np.rad2deg(phi)\n",
    "    return phi, theta"
   ]
  },
  {
   "cell_type": "code",
   "execution_count": null,
   "id": "31706769",
   "metadata": {},
   "outputs": [],
   "source": [
    "\n",
    "for i in range(1,2001):\n",
    "    datafile = '/home/heruhe/Desktop/Ga2o3/relaxed_dataframes/81920atoms.relaxed'\n",
    "    elements = ['B','Be','H','He','Li']  # to keep atom type number,assign type 1 to B,2 to Be, 3 to H, 4 to He, 5 to Li\n",
    "    elements_real = ['O1','O2','O3','Ga2','Ga1'] # to show atom's right symbol, type 1 is assigned to B\n",
    "    # read in data correctly... map Z and sort by id\n",
    "    Zs = [atomic_numbers[s] for s in elements]\n",
    "    Zs.insert(0, 0)  # 1st lammps type = 1\n",
    "    atoms = ase.io.read(datafile, format='lammps-data', style='atomic', Z_of_type=Zs, sort_by_id=True)\n",
    "    np.random.seed(None)  # when None, seeds from /dev/urandom if available, else clock\n",
    "    pkaid = np.random.randint(1, 81920, dtype=int)\n",
    "    PKAtype =elements_real[atoms[pkaid - 1].number-1]\n",
    "    if PKAtype == 'Ga1'or PKAtype == 'Ga2':\n",
    "        ofp,gafp=gasamples(1)\n",
    "    phi, theta = random_direction()  # specific direction or random_direction(seed=None or int')\n",
    "    np.random.seed(None)\n",
    "    r=np.random.uniform(5.8,6.2)#control displacement distance between a range\n",
    "    dis_position=spherical_to_cartesian(r, phi, theta)\n",
    "    print(f'displacement atom')\n",
    "    print(f'times ID type distance dis_x dis_y dis_z')\n",
    "    print(f'{i} {pkaid} {PKAtype} {r} {dis_position[0]} {dis_position[1]} {dis_position[2]}')\n",
    "    #lammps = '/home/heruhe/Downloads/lammps/build/lmp'\n",
    "    lammps ='srun /projappl/djurabek/heru/lammps/build/lmp'\n",
    "\n",
    "    inputfile = \"in.minimize\"\n",
    "    run_lammps = str(lammps) + ' -in ' + inputfile + ' -var times ' + str(i) + ' -var PKAID ' + str(pkaid)+ ' -var dis_x ' + str(dis_position[0$\n",
    "    with open(\"lammps.stdout{}\".format(i), 'w') as lmpout:\n",
    "        subprocess.call(run_lammps, stdout=lmpout, shell=True)\n",
    "\n"
   ]
  },
  {
   "cell_type": "code",
   "execution_count": null,
   "id": "653fceda",
   "metadata": {},
   "outputs": [],
   "source": [
    "\n",
    "for i in range(1,2001):\n",
    "    datafile = '/home/heruhe/Desktop/Ga2o3/relaxed_dataframes/81920atoms.relaxed'\n",
    "    elements = ['B','Be','H','He','Li']  # to keep atom type number,assign type 1 to B,2 to Be, 3 to H, 4 to He, 5 to Li\n",
    "    elements_real = ['O1','O2','O3','Ga2','Ga1'] # to show atom's right symbol, type 1 is assigned to B\n",
    "    # read in data correctly... map Z and sort by id\n",
    "    Zs = [atomic_numbers[s] for s in elements]\n",
    "    Zs.insert(0, 0)  # 1st lammps type = 1\n",
    "    atoms = ase.io.read(datafile, format='lammps-data', style='atomic', Z_of_type=Zs, sort_by_id=True)\n",
    "    t = False\n",
    "    while not t:\n",
    "        np.random.seed(None)  # when None, seeds from /dev/urandom if available, else clock\n",
    "        pkaid = np.random.randint(1, 1280, dtype=int)\n",
    "        PKAtype =elements_real[atoms[pkaid - 1].number-1]\n",
    "        #if PKAtype == 'Ga1':\n",
    "        PKAtypeindex=atoms[pkaid - 1].number\n",
    "        if PKAtypeindex<10:\n",
    "            t = True\n",
    "        else:\n",
    "            continue\n",
    "    phi, theta = random_direction()  # specific direction or random_direction(seed=None or int')\n",
    "    np.random.seed(None)\n",
    "    r=np.random.uniform(5.8,6.2)#control displacement distance between a range\n",
    "    dis_position=spherical_to_cartesian(r, phi, theta)\n",
    "    print(f'displacement atom')\n",
    "    print(f'times ID type distance dis_x dis_y dis_z')\n",
    "    print(f'{i} {pkaid} {PKAtype} {r} {dis_position[0]} {dis_position[1]} {dis_position[2]}')\n",
    "    #lammps = '/home/heruhe/Downloads/lammps/build/lmp'\n",
    "    lammps ='srun /projappl/djurabek/heru/lammps/build/lmp'\n",
    "\n",
    "    inputfile = \"in.minimize\"\n",
    "    run_lammps = str(lammps) + ' -in ' + inputfile + ' -var times ' + str(i) + ' -var PKAID ' + str(pkaid)+ ' -var dis_x ' + str(dis_position[0$\n",
    "    with open(\"lammps.stdout{}\".format(i), 'w') as lmpout:\n",
    "        subprocess.call(run_lammps, stdout=lmpout, shell=True)\n",
    "\n"
   ]
  }
 ],
 "metadata": {
  "kernelspec": {
   "display_name": "Python 3 (ipykernel)",
   "language": "python",
   "name": "python3"
  },
  "language_info": {
   "codemirror_mode": {
    "name": "ipython",
    "version": 3
   },
   "file_extension": ".py",
   "mimetype": "text/x-python",
   "name": "python",
   "nbconvert_exporter": "python",
   "pygments_lexer": "ipython3",
   "version": "3.10.12"
  }
 },
 "nbformat": 4,
 "nbformat_minor": 5
}
