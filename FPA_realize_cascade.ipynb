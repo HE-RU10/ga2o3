{
 "cells": [
  {
   "cell_type": "code",
   "execution_count": 1,
   "id": "98c1eb68",
   "metadata": {},
   "outputs": [],
   "source": [
    "import pandas as pd\n",
    "import numpy as np\n",
    "import matplotlib.pyplot as plt\n",
    "import os \n",
    "%matplotlib inline"
   ]
  },
  {
   "cell_type": "code",
   "execution_count": 33,
   "id": "9f7e1681",
   "metadata": {},
   "outputs": [
    {
     "data": {
      "text/plain": [
       "(array([11, 12]), array([15, 15]))"
      ]
     },
     "execution_count": 33,
     "metadata": {},
     "output_type": "execute_result"
    }
   ],
   "source": [
    "def osamples(n_samples):\n",
    "    nfpa = np.random.normal(loc=26.42496428571428, scale=0.7598622819300876, size=n_samples)\n",
    "    nfpa=np.round(nfpa).astype(int)\n",
    "    gafpa=nfpa*16/28\n",
    "    gafpa=np.round(gafpa).astype(int)\n",
    "    ofpa=nfpa-gafpa\n",
    "    return ofpa, gafpa\n",
    "osamples(2)\n",
    "#38.757275 1.5456876137742062"
   ]
  }
 ],
 "metadata": {
  "kernelspec": {
   "display_name": "Python 3 (ipykernel)",
   "language": "python",
   "name": "python3"
  },
  "language_info": {
   "codemirror_mode": {
    "name": "ipython",
    "version": 3
   },
   "file_extension": ".py",
   "mimetype": "text/x-python",
   "name": "python",
   "nbconvert_exporter": "python",
   "pygments_lexer": "ipython3",
   "version": "3.10.12"
  }
 },
 "nbformat": 4,
 "nbformat_minor": 5
}
