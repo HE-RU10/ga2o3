{
 "cells": [
  {
   "cell_type": "code",
   "execution_count": 93,
   "id": "3ec040f8",
   "metadata": {},
   "outputs": [],
   "source": [
    "import pandas as pd\n",
    "import numpy as np\n",
    "import matplotlib.pyplot as plt\n",
    "import os \n",
    "%matplotlib inline\n",
    "import seaborn as sns"
   ]
  },
  {
   "cell_type": "code",
   "execution_count": 94,
   "id": "3af464f2",
   "metadata": {},
   "outputs": [],
   "source": [
    "odf=pd.read_csv('/home/heruhe/Desktop/Ga2o3/Frenkelpair/FP_beta/npt/FP_recover/random/O/o_recover_percentage')\n",
    "gadf1=pd.read_csv('/home/heruhe/Desktop/Ga2o3/Frenkelpair/FP_beta/npt/FP_recover/random/Ga/first_second_shell/ga_recover_percentage')\n",
    "gadf2=pd.read_csv('/home/heruhe/Desktop/Ga2o3/Frenkelpair/FP_beta/npt/FP_recover/random/Ga/second_shell/second_shell/ga_secondshell_recover_percentage')\n",
    "gadf2['recover_p']=gadf2['recover']/gadf2['total_amount']"
   ]
  },
  {
   "cell_type": "code",
   "execution_count": 95,
   "id": "14ceb94b",
   "metadata": {},
   "outputs": [
    {
     "data": {
      "text/plain": [
       "array([0.77662078, 0.3016328 , 0.1211273 ])"
      ]
     },
     "execution_count": 95,
     "metadata": {},
     "output_type": "execute_result"
    }
   ],
   "source": [
    "\n",
    "omean=odf.mean()[2:5].values\n",
    "oerr=(odf.std()[2:5]/np.sqrt(len(odf))).values\n",
    "omean"
   ]
  },
  {
   "cell_type": "code",
   "execution_count": 96,
   "id": "85dc62de",
   "metadata": {},
   "outputs": [
    {
     "data": {
      "text/html": [
       "<div>\n",
       "<style scoped>\n",
       "    .dataframe tbody tr th:only-of-type {\n",
       "        vertical-align: middle;\n",
       "    }\n",
       "\n",
       "    .dataframe tbody tr th {\n",
       "        vertical-align: top;\n",
       "    }\n",
       "\n",
       "    .dataframe thead th {\n",
       "        text-align: right;\n",
       "    }\n",
       "</style>\n",
       "<table border=\"1\" class=\"dataframe\">\n",
       "  <thead>\n",
       "    <tr style=\"text-align: right;\">\n",
       "      <th></th>\n",
       "      <th>1st shell</th>\n",
       "      <th>2nd shell</th>\n",
       "      <th>3rd shell</th>\n",
       "    </tr>\n",
       "    <tr>\n",
       "      <th>type</th>\n",
       "      <th></th>\n",
       "      <th></th>\n",
       "      <th></th>\n",
       "    </tr>\n",
       "  </thead>\n",
       "  <tbody>\n",
       "    <tr>\n",
       "      <th>O</th>\n",
       "      <td>0.776621</td>\n",
       "      <td>0.301633</td>\n",
       "      <td>0.121127</td>\n",
       "    </tr>\n",
       "    <tr>\n",
       "      <th>Ga</th>\n",
       "      <td>0.275356</td>\n",
       "      <td>0.027592</td>\n",
       "      <td>0.000000</td>\n",
       "    </tr>\n",
       "  </tbody>\n",
       "</table>\n",
       "</div>"
      ],
      "text/plain": [
       "      1st shell  2nd shell  3rd shell\n",
       "type                                 \n",
       "O      0.776621   0.301633   0.121127\n",
       "Ga     0.275356   0.027592   0.000000"
      ]
     },
     "execution_count": 96,
     "metadata": {},
     "output_type": "execute_result"
    }
   ],
   "source": [
    "\n",
    "gamean1=gadf1.mean()[2:].values[0]\n",
    "gamean2=gadf2['recover_p'].mean()\n",
    "gaerr1=(gadf1.std()[2:]/np.sqrt(len(gadf1))).values[0]\n",
    "gaerr2=(gadf2['recover_p'].std()/np.sqrt(len(gadf2['recover_p'])))\n",
    "total_m=pd.DataFrame()\n",
    "total_m['1st shell']=np.array([omean[0],gamean1])\n",
    "total_m['2nd shell']=np.array([omean[1],gamean2])\n",
    "total_m['3rd shell']=np.array([omean[2],0])\n",
    "total_m['type']=np.array(['O','Ga'])\n",
    "total_m=total_m.set_index('type')\n",
    "total_m"
   ]
  },
  {
   "cell_type": "code",
   "execution_count": 97,
   "id": "a04309bc",
   "metadata": {},
   "outputs": [
    {
     "data": {
      "text/html": [
       "<div>\n",
       "<style scoped>\n",
       "    .dataframe tbody tr th:only-of-type {\n",
       "        vertical-align: middle;\n",
       "    }\n",
       "\n",
       "    .dataframe tbody tr th {\n",
       "        vertical-align: top;\n",
       "    }\n",
       "\n",
       "    .dataframe thead th {\n",
       "        text-align: right;\n",
       "    }\n",
       "</style>\n",
       "<table border=\"1\" class=\"dataframe\">\n",
       "  <thead>\n",
       "    <tr style=\"text-align: right;\">\n",
       "      <th></th>\n",
       "      <th>1st shell</th>\n",
       "      <th>2nd shell</th>\n",
       "      <th>3th shell</th>\n",
       "    </tr>\n",
       "    <tr>\n",
       "      <th>type</th>\n",
       "      <th></th>\n",
       "      <th></th>\n",
       "      <th></th>\n",
       "    </tr>\n",
       "  </thead>\n",
       "  <tbody>\n",
       "    <tr>\n",
       "      <th>O</th>\n",
       "      <td>0.016383</td>\n",
       "      <td>0.023465</td>\n",
       "      <td>0.026671</td>\n",
       "    </tr>\n",
       "    <tr>\n",
       "      <th>Ga</th>\n",
       "      <td>0.022946</td>\n",
       "      <td>0.010800</td>\n",
       "      <td>0.000000</td>\n",
       "    </tr>\n",
       "  </tbody>\n",
       "</table>\n",
       "</div>"
      ],
      "text/plain": [
       "      1st shell  2nd shell  3th shell\n",
       "type                                 \n",
       "O      0.016383   0.023465   0.026671\n",
       "Ga     0.022946   0.010800   0.000000"
      ]
     },
     "execution_count": 97,
     "metadata": {},
     "output_type": "execute_result"
    }
   ],
   "source": [
    "total_err=pd.DataFrame()\n",
    "total_err['1st shell']=np.array([oerr[0],gaerr1])\n",
    "total_err['2nd shell']=np.array([oerr[1],gaerr2])\n",
    "total_err['3th shell']=np.array([oerr[2],0])\n",
    "total_err['type']=np.array(['O','Ga'])\n",
    "total_err=total_err.set_index('type')\n",
    "total_err"
   ]
  },
  {
   "cell_type": "code",
   "execution_count": 99,
   "id": "7759709d",
   "metadata": {
    "scrolled": true
   },
   "outputs": [
    {
     "name": "stderr",
     "output_type": "stream",
     "text": [
      "/usr/lib/python3/dist-packages/numpy/core/_methods.py:44: RuntimeWarning: invalid value encountered in reduce\n",
      "  return umr_minimum(a, axis, None, out, keepdims, initial, where)\n",
      "/usr/lib/python3/dist-packages/numpy/core/_methods.py:40: RuntimeWarning: invalid value encountered in reduce\n",
      "  return umr_maximum(a, axis, None, out, keepdims, initial, where)\n",
      "/usr/lib/python3/dist-packages/numpy/core/_methods.py:44: RuntimeWarning: invalid value encountered in reduce\n",
      "  return umr_minimum(a, axis, None, out, keepdims, initial, where)\n",
      "/usr/lib/python3/dist-packages/numpy/core/_methods.py:40: RuntimeWarning: invalid value encountered in reduce\n",
      "  return umr_maximum(a, axis, None, out, keepdims, initial, where)\n"
     ]
    },
    {
     "data": {
      "image/png": "[encoded data removed]",
      "text/plain": [
       "<Figure size 576x432 with 1 Axes>"
      ]
     },
     "metadata": {
      "needs_background": "light"
     },
     "output_type": "display_data"
    }
   ],
   "source": [
    "\n",
    "total_m.T.plot(kind='bar', yerr=total_err.T, rot=0, alpha=1,fontsize=20,capsize=5)\n",
    "plt.xticks(range(3),['1$^{st}$ shell', '2$^{nd}$ shell', '3$^{rd}$ shell'])\n",
    "plt.legend(fontsize=30)\n",
    "plt.xlabel('Vacancy distance',fontsize=30)\n",
    "plt.ylabel('Recover percentage(%)',fontsize=30)\n",
    "plt.rcParams[\"figure.figsize\"] = (8,6)\n",
    "plt.rcParams[\"font.family\"] = \"arial\"\n",
    "# Change the figure frame (border) line width\n",
    "# Set the frame line width to 3 for all spines (borders)\n",
    "for spine in ax.spines.values():\n",
    "    spine.set_linewidth(3)\n"
   ]
  },
  {
   "cell_type": "code",
   "execution_count": 101,
   "id": "75a9dc12",
   "metadata": {},
   "outputs": [
    {
     "data": {
      "image/png": "[encoded data removed]",
      "text/plain": [
       "<Figure size 576x432 with 1 Axes>"
      ]
     },
     "metadata": {
      "needs_background": "light"
     },
     "output_type": "display_data"
    }
   ],
   "source": [
    "import matplotlib.pyplot as plt\n",
    "import pandas as pd\n",
    "\n",
    "# Create a DataFrame with your data\n",
    "data = {\n",
    "    '1st shell': [0.776621, 0.275356],\n",
    "    '2nd shell': [0.301633, 0.027592],\n",
    "    '3rd shell': [0.121127, 0.000000]\n",
    "}\n",
    "\n",
    "# Create a DataFrame with error bar data\n",
    "error_data = {\n",
    "    '1st shell': [0.016383, 0.022946],\n",
    "    '2nd shell': [0.023465, 0.010800],\n",
    "    '3rd shell': [0.026671, 0.000000]\n",
    "}\n",
    "\n",
    "index = ['O', 'Ga'] \n",
    "df = pd.DataFrame(data, index=index)*100\n",
    "error_df = pd.DataFrame(error_data, index=index)*100\n",
    "\n",
    "# Transpose the DataFrames for plotting\n",
    "df = df.T\n",
    "error_df = error_df.T\n",
    "\n",
    "# Create the bar plot with error bars\n",
    "ax = df.plot(kind='bar', yerr=error_df, rot=0, alpha=1,fontsize=20,capsize=6)\n",
    "\n",
    "# Set the frame line width to 3 for all spines (borders)\n",
    "for spine in ax.spines.values():\n",
    "    spine.set_linewidth(3)\n",
    "plt.xticks(range(3),['1$^{st}$ shell', '2$^{nd}$ shell', '3$^{rd}$ shell'])\n",
    "plt.legend(fontsize=20)\n",
    "plt.xlabel('Vacancy distance',fontsize=20)\n",
    "plt.ylabel('Recover percentage(%)',fontsize=20)\n",
    "plt.rcParams[\"figure.figsize\"] = (8,6)\n",
    "plt.rcParams[\"font.family\"] = \"arial\"\n",
    "\n",
    "# Display the plot\n",
    "plt.show()\n"
   ]
  }
 ],
 "metadata": {
  "kernelspec": {
   "display_name": "Python 3 (ipykernel)",
   "language": "python",
   "name": "python3"
  },
  "language_info": {
   "codemirror_mode": {
    "name": "ipython",
    "version": 3
   },
   "file_extension": ".py",
   "mimetype": "text/x-python",
   "name": "python",
   "nbconvert_exporter": "python",
   "pygments_lexer": "ipython3",
   "version": "3.10.12"
  }
 },
 "nbformat": 4,
 "nbformat_minor": 5
}
