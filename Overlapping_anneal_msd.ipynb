{
 "cells": [
  {
   "cell_type": "code",
   "execution_count": 1,
   "id": "b2745ba6",
   "metadata": {},
   "outputs": [],
   "source": [
    "import pandas as pd\n",
    "import numpy as np\n",
    "import matplotlib.pyplot as plt\n",
    "import os \n",
    "import seaborn as sns \n",
    "%matplotlib inline\n",
    "import warnings\n",
    "warnings.filterwarnings(\"ignore\")"
   ]
  },
  {
   "cell_type": "code",
   "execution_count": 3,
   "id": "d96d7cdb",
   "metadata": {},
   "outputs": [],
   "source": [
    "def displacement(f1,f2):\n",
    "    x=98.8683\n",
    "    y=100.794\n",
    "    z=96.02406\n",
    "    dfFP=pd.DataFrame()\n",
    "    dfDFT=pd.DataFrame()\n",
    "    dfFP=pd.read_csv(f1,skiprows=14,sep=' ',nrows=320,header=None)\n",
    "    dfDFT=pd.read_csv(f2,skiprows=14,sep=' ',nrows=320,header=None)\n",
    "    dis=dfDFT-dfFP\n",
    "    dis = dis.drop(columns=[0,1])\n",
    "    dis = dis.rename(columns={2:'x',3:'y',4:'z'})\n",
    "    for i in range(320):\n",
    "        if abs(dis.x[i])+3>x:\n",
    "            if dis.x[i]>0:\n",
    "                dis.x[i]=dis.x[i]-x\n",
    "            else:\n",
    "                dis.x[i]=dis.x[i]+x\n",
    "        if abs(dis.y[i])+3>y:\n",
    "            if dis.y[i]>0:\n",
    "                dis.y[i]=dis.y[i]-y\n",
    "            else:\n",
    "                dis.y[i]=dis.y[i]+y\n",
    "        if abs(dis.z[i])+3>z:\n",
    "            if dis.z[i]>0:\n",
    "                dis.z[i]=dis.z[i]-z\n",
    "            else :\n",
    "                dis.z[i]=dis.z[i]+z\n",
    "    dis['dis']=np.sqrt(dis.x**2+dis.y**2+dis.z**2)\n",
    "    #print(dis['dis'].describe())\n",
    "\n",
    "    sns.kdeplot(dis.dis, label='{}'.format(FPn) + ' ' + FPtype)\n",
    "    plt.xlabel('Displacement distance, ($\\AA$)')\n",
    "    #plt.ylabel('Atoms number')\n",
    "    return dis"
   ]
  },
  {
   "cell_type": "code",
   "execution_count": null,
   "id": "457c272a",
   "metadata": {},
   "outputs": [],
   "source": [
    "dfFP=pd.read_csv(f1,skiprows=14,sep=' ',nrows=320,header=None)"
   ]
  }
 ],
 "metadata": {
  "kernelspec": {
   "display_name": "Python 3 (ipykernel)",
   "language": "python",
   "name": "python3"
  },
  "language_info": {
   "codemirror_mode": {
    "name": "ipython",
    "version": 3
   },
   "file_extension": ".py",
   "mimetype": "text/x-python",
   "name": "python",
   "nbconvert_exporter": "python",
   "pygments_lexer": "ipython3",
   "version": "3.10.12"
  }
 },
 "nbformat": 4,
 "nbformat_minor": 5
}
