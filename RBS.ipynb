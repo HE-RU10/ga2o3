{
 "cells": [
  {
   "cell_type": "code",
   "execution_count": 2,
   "id": "8135857b",
   "metadata": {},
   "outputs": [],
   "source": [
    "import pandas as pd\n",
    "import numpy as np\n",
    "import matplotlib.pyplot as plt\n",
    "import os \n",
    "%matplotlib inline\n",
    "import seaborn as sns"
   ]
  },
  {
   "cell_type": "code",
   "execution_count": 77,
   "id": "9bef438f",
   "metadata": {
    "scrolled": true
   },
   "outputs": [
    {
     "data": {
      "text/html": [
       "<div>\n",
       "<style scoped>\n",
       "    .dataframe tbody tr th:only-of-type {\n",
       "        vertical-align: middle;\n",
       "    }\n",
       "\n",
       "    .dataframe tbody tr th {\n",
       "        vertical-align: top;\n",
       "    }\n",
       "\n",
       "    .dataframe thead th {\n",
       "        text-align: right;\n",
       "    }\n",
       "</style>\n",
       "<table border=\"1\" class=\"dataframe\">\n",
       "  <thead>\n",
       "    <tr style=\"text-align: right;\">\n",
       "      <th></th>\n",
       "      <th>0</th>\n",
       "      <th>1</th>\n",
       "    </tr>\n",
       "  </thead>\n",
       "  <tbody>\n",
       "    <tr>\n",
       "      <th>0</th>\n",
       "      <td>0</td>\n",
       "      <td>2.023566e-56</td>\n",
       "    </tr>\n",
       "    <tr>\n",
       "      <th>1</th>\n",
       "      <td>1</td>\n",
       "      <td>2.317230e-54</td>\n",
       "    </tr>\n",
       "    <tr>\n",
       "      <th>2</th>\n",
       "      <td>2</td>\n",
       "      <td>2.406375e-52</td>\n",
       "    </tr>\n",
       "    <tr>\n",
       "      <th>3</th>\n",
       "      <td>3</td>\n",
       "      <td>2.266277e-50</td>\n",
       "    </tr>\n",
       "    <tr>\n",
       "      <th>4</th>\n",
       "      <td>4</td>\n",
       "      <td>1.935674e-48</td>\n",
       "    </tr>\n",
       "    <tr>\n",
       "      <th>...</th>\n",
       "      <td>...</td>\n",
       "      <td>...</td>\n",
       "    </tr>\n",
       "    <tr>\n",
       "      <th>795</th>\n",
       "      <td>795</td>\n",
       "      <td>0.000000e+00</td>\n",
       "    </tr>\n",
       "    <tr>\n",
       "      <th>796</th>\n",
       "      <td>796</td>\n",
       "      <td>0.000000e+00</td>\n",
       "    </tr>\n",
       "    <tr>\n",
       "      <th>797</th>\n",
       "      <td>797</td>\n",
       "      <td>0.000000e+00</td>\n",
       "    </tr>\n",
       "    <tr>\n",
       "      <th>798</th>\n",
       "      <td>798</td>\n",
       "      <td>0.000000e+00</td>\n",
       "    </tr>\n",
       "    <tr>\n",
       "      <th>799</th>\n",
       "      <td>799</td>\n",
       "      <td>0.000000e+00</td>\n",
       "    </tr>\n",
       "  </tbody>\n",
       "</table>\n",
       "<p>800 rows × 2 columns</p>\n",
       "</div>"
      ],
      "text/plain": [
       "       0             1\n",
       "0      0  2.023566e-56\n",
       "1      1  2.317230e-54\n",
       "2      2  2.406375e-52\n",
       "3      3  2.266277e-50\n",
       "4      4  1.935674e-48\n",
       "..   ...           ...\n",
       "795  795  0.000000e+00\n",
       "796  796  0.000000e+00\n",
       "797  797  0.000000e+00\n",
       "798  798  0.000000e+00\n",
       "799  799  0.000000e+00\n",
       "\n",
       "[800 rows x 2 columns]"
      ]
     },
     "execution_count": 77,
     "metadata": {},
     "output_type": "execute_result"
    }
   ],
   "source": [
    "df=pd.read_csv('/home/heruhe/Desktop/Ga2o3/RBS/gamma001/pris/A/out/rbsspectra.dat',sep='\\s+', header=None)\n",
    "\n",
    "#df=pd.read_csv('/home/heruhe/Desktop/Ga2o3/RBS/Data2RH/3b/A/out/rbsspectra.dat',sep='\\s+', header=None)\n",
    "df2=pd.read_csv('/home/heruhe/Desktop/Ga2o3/RBS/Data2RH/14/pris/A/out/tot_out.txt',sep='\\t', skiprows=[0])\n",
    "df3=pd.read_csv('/home/heruhe/Desktop/Ga2o3/RBS/Data2RH/14/ran/A/out/tot_out.txt',sep='\\t', skiprows=[0])\n",
    "df"
   ]
  },
  {
   "cell_type": "code",
   "execution_count": 78,
   "id": "216e5f29",
   "metadata": {},
   "outputs": [
    {
     "data": {
      "text/html": [
       "<div>\n",
       "<style scoped>\n",
       "    .dataframe tbody tr th:only-of-type {\n",
       "        vertical-align: middle;\n",
       "    }\n",
       "\n",
       "    .dataframe tbody tr th {\n",
       "        vertical-align: top;\n",
       "    }\n",
       "\n",
       "    .dataframe thead th {\n",
       "        text-align: right;\n",
       "    }\n",
       "</style>\n",
       "<table border=\"1\" class=\"dataframe\">\n",
       "  <thead>\n",
       "    <tr style=\"text-align: right;\">\n",
       "      <th></th>\n",
       "      <th>0</th>\n",
       "      <th>1</th>\n",
       "      <th>Yield</th>\n",
       "      <th>Energy(keV)</th>\n",
       "    </tr>\n",
       "  </thead>\n",
       "  <tbody>\n",
       "    <tr>\n",
       "      <th>0</th>\n",
       "      <td>0</td>\n",
       "      <td>2.023566e-56</td>\n",
       "      <td>2.023566e-56</td>\n",
       "      <td>0.0</td>\n",
       "    </tr>\n",
       "    <tr>\n",
       "      <th>1</th>\n",
       "      <td>1</td>\n",
       "      <td>2.317230e-54</td>\n",
       "      <td>2.317230e-54</td>\n",
       "      <td>2.0</td>\n",
       "    </tr>\n",
       "    <tr>\n",
       "      <th>2</th>\n",
       "      <td>2</td>\n",
       "      <td>2.406375e-52</td>\n",
       "      <td>2.406375e-52</td>\n",
       "      <td>4.0</td>\n",
       "    </tr>\n",
       "    <tr>\n",
       "      <th>3</th>\n",
       "      <td>3</td>\n",
       "      <td>2.266277e-50</td>\n",
       "      <td>2.266277e-50</td>\n",
       "      <td>6.0</td>\n",
       "    </tr>\n",
       "    <tr>\n",
       "      <th>4</th>\n",
       "      <td>4</td>\n",
       "      <td>1.935674e-48</td>\n",
       "      <td>1.935674e-48</td>\n",
       "      <td>8.0</td>\n",
       "    </tr>\n",
       "    <tr>\n",
       "      <th>...</th>\n",
       "      <td>...</td>\n",
       "      <td>...</td>\n",
       "      <td>...</td>\n",
       "      <td>...</td>\n",
       "    </tr>\n",
       "    <tr>\n",
       "      <th>795</th>\n",
       "      <td>795</td>\n",
       "      <td>0.000000e+00</td>\n",
       "      <td>0.000000e+00</td>\n",
       "      <td>1590.0</td>\n",
       "    </tr>\n",
       "    <tr>\n",
       "      <th>796</th>\n",
       "      <td>796</td>\n",
       "      <td>0.000000e+00</td>\n",
       "      <td>0.000000e+00</td>\n",
       "      <td>1592.0</td>\n",
       "    </tr>\n",
       "    <tr>\n",
       "      <th>797</th>\n",
       "      <td>797</td>\n",
       "      <td>0.000000e+00</td>\n",
       "      <td>0.000000e+00</td>\n",
       "      <td>1594.0</td>\n",
       "    </tr>\n",
       "    <tr>\n",
       "      <th>798</th>\n",
       "      <td>798</td>\n",
       "      <td>0.000000e+00</td>\n",
       "      <td>0.000000e+00</td>\n",
       "      <td>1596.0</td>\n",
       "    </tr>\n",
       "    <tr>\n",
       "      <th>799</th>\n",
       "      <td>799</td>\n",
       "      <td>0.000000e+00</td>\n",
       "      <td>0.000000e+00</td>\n",
       "      <td>1598.0</td>\n",
       "    </tr>\n",
       "  </tbody>\n",
       "</table>\n",
       "<p>800 rows × 4 columns</p>\n",
       "</div>"
      ],
      "text/plain": [
       "       0             1         Yield  Energy(keV)\n",
       "0      0  2.023566e-56  2.023566e-56          0.0\n",
       "1      1  2.317230e-54  2.317230e-54          2.0\n",
       "2      2  2.406375e-52  2.406375e-52          4.0\n",
       "3      3  2.266277e-50  2.266277e-50          6.0\n",
       "4      4  1.935674e-48  1.935674e-48          8.0\n",
       "..   ...           ...           ...          ...\n",
       "795  795  0.000000e+00  0.000000e+00       1590.0\n",
       "796  796  0.000000e+00  0.000000e+00       1592.0\n",
       "797  797  0.000000e+00  0.000000e+00       1594.0\n",
       "798  798  0.000000e+00  0.000000e+00       1596.0\n",
       "799  799  0.000000e+00  0.000000e+00       1598.0\n",
       "\n",
       "[800 rows x 4 columns]"
      ]
     },
     "execution_count": 78,
     "metadata": {},
     "output_type": "execute_result"
    }
   ],
   "source": [
    "df['Yield']=df.iloc[:,1]\n",
    "df['Energy(keV)']=df.index*1600/len(df)\n",
    "df"
   ]
  },
  {
   "cell_type": "code",
   "execution_count": 82,
   "id": "cf437029",
   "metadata": {},
   "outputs": [
    {
     "data": {
      "text/plain": [
       "<matplotlib.legend.Legend at 0x7f87b2734940>"
      ]
     },
     "execution_count": 82,
     "metadata": {},
     "output_type": "execute_result"
    },
    {
     "data": {
      "image/png": "[encoded data removed]",
      "text/plain": [
       "<Figure size 432x288 with 1 Axes>"
      ]
     },
     "metadata": {
      "needs_background": "light"
     },
     "output_type": "display_data"
    }
   ],
   "source": [
    "\n",
    "plt.plot(df['Energy(keV)'],df['Yield'],label='gamma001')\n",
    "plt.plot(df2['Energy(keV)'],df2['Yield'])\n",
    "plt.plot(df3['Energy(keV)'],df3['Yield'])\n",
    "plt.legend()"
   ]
  },
  {
   "cell_type": "code",
   "execution_count": 88,
   "id": "4f0ca28f",
   "metadata": {},
   "outputs": [
    {
     "data": {
      "text/plain": [
       "<matplotlib.legend.Legend at 0x7f87b29b8a60>"
      ]
     },
     "execution_count": 88,
     "metadata": {},
     "output_type": "execute_result"
    },
    {
     "data": {
      "image/png": "[encoded data removed]",
      "text/plain": [
       "<Figure size 432x288 with 1 Axes>"
      ]
     },
     "metadata": {
      "needs_background": "light"
     },
     "output_type": "display_data"
    }
   ],
   "source": [
    "df=pd.read_csv('/home/heruhe/Desktop/Ga2o3/RBS/gamma110/pris/out/rbsspectra.dat',sep='\\s+', header=None)\n",
    "df['Yield']=df.iloc[:,1]\n",
    "df['Energy(keV)']=df.index*1600/len(df)\n",
    "plt.plot(df['Energy(keV)'],df['Yield'],label='gamma110')\n",
    "plt.plot(df2['Energy(keV)'],df2['Yield'],label='gamma001')\n",
    "plt.plot(df3['Energy(keV)'],df3['Yield'],label='ran')\n",
    "plt.xlabel('Energy(keV)')\n",
    "plt.ylabel('Yield')\n",
    "plt.legend()"
   ]
  },
  {
   "cell_type": "code",
   "execution_count": 6,
   "id": "8339eb5b",
   "metadata": {},
   "outputs": [
    {
     "data": {
      "text/plain": [
       "<matplotlib.legend.Legend at 0x795d947a1b10>"
      ]
     },
     "execution_count": 6,
     "metadata": {},
     "output_type": "execute_result"
    },
    {
     "data": {
      "image/png": "[encoded data removed]",
      "text/plain": [
       "<Figure size 432x288 with 1 Axes>"
      ]
     },
     "metadata": {
      "needs_background": "light"
     },
     "output_type": "display_data"
    }
   ],
   "source": [
    "\n",
    "df=pd.read_csv('/home/heruhe/Desktop/Ga2o3/RBS/overlapping/2_10_14/quick_250nm/1600_A/out/rbsspectra.dat',sep='\\s+', header=None)\n",
    "df['Yield']=df.iloc[:,1]\n",
    "df['Energy(keV)']=df.index*1600/len(df)\n",
    "plt.plot(df['Energy(keV)'],df['Yield'],label='2*10**14_C')\n",
    "df=pd.read_csv('/home/heruhe/Desktop/Ga2o3/RBS/overlapping/2_10_14/quick_250nm/1600_R/out/rbsspectra.dat',sep='\\s+', header=None)\n",
    "df['Yield']=df.iloc[:,1]\n",
    "df['Energy(keV)']=df.index*1600/len(df)\n",
    "plt.plot(df['Energy(keV)'],df['Yield'],label='2*10**14_random')\n",
    "plt.xlabel('Energy(keV)')\n",
    "plt.ylabel('Yield')\n",
    "plt.legend()"
   ]
  }
 ],
 "metadata": {
  "kernelspec": {
   "display_name": "Python 3 (ipykernel)",
   "language": "python",
   "name": "python3"
  },
  "language_info": {
   "codemirror_mode": {
    "name": "ipython",
    "version": 3
   },
   "file_extension": ".py",
   "mimetype": "text/x-python",
   "name": "python",
   "nbconvert_exporter": "python",
   "pygments_lexer": "ipython3",
   "version": "3.10.10"
  }
 },
 "nbformat": 4,
 "nbformat_minor": 5
}
