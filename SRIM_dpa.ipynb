{
 "cells": [
  {
   "cell_type": "code",
   "execution_count": 1,
   "id": "77f54406",
   "metadata": {},
   "outputs": [],
   "source": [
    "#calculate dpa through SRIM simulation\n",
    "import pandas as pd\n",
    "import numpy as np\n",
    "import matplotlib.pyplot as plt\n",
    "import os \n"
   ]
  },
  {
   "cell_type": "code",
   "execution_count": 30,
   "id": "f7210f99",
   "metadata": {},
   "outputs": [
    {
     "name": "stdout",
     "output_type": "stream",
     "text": [
      "0       5.001\n",
      "1      10.001\n",
      "2      15.001\n",
      "3      20.001\n",
      "4      25.001\n",
      "       ...   \n",
      "95    480.001\n",
      "96    485.001\n",
      "97    490.001\n",
      "98    495.001\n",
      "99    500.001\n",
      "Name: depth, Length: 100, dtype: float64\n",
      "      depth      V_Ni        V1        V2           dpa\n",
      "0     5.001  0.061045  0.373530  0.993758  1.511464e-03\n",
      "1    10.001  0.064756  0.500043  1.340790  2.016497e-03\n",
      "2    15.001  0.066107  0.581600  1.588960  2.366844e-03\n",
      "3    20.001  0.069250  0.621905  1.703720  2.534259e-03\n",
      "4    25.001  0.071056  0.662624  1.816780  2.698899e-03\n",
      "..      ...       ...       ...       ...           ...\n",
      "95  480.001  0.000000  0.000228  0.000768  1.053310e-06\n",
      "96  485.001  0.000000  0.000192  0.000619  8.576963e-07\n",
      "97  490.001  0.000000  0.000057  0.000135  2.031384e-07\n",
      "98  495.001  0.000000  0.000071  0.000121  2.031381e-07\n",
      "99  500.001  0.000000  0.000107  0.000213  3.385640e-07\n",
      "\n",
      "[100 rows x 5 columns]\n",
      "0     0.001511\n",
      "2     0.002367\n",
      "4     0.002699\n",
      "6     0.003055\n",
      "8     0.003210\n",
      "10    0.003629\n",
      "12    0.003854\n",
      "14    0.004027\n",
      "16    0.004129\n",
      "18    0.004193\n",
      "20    0.004134\n",
      "22    0.004174\n",
      "24    0.004104\n",
      "26    0.003880\n",
      "28    0.003798\n",
      "30    0.003663\n",
      "32    0.003625\n",
      "34    0.003385\n",
      "36    0.003170\n",
      "38    0.002763\n",
      "40    0.002550\n",
      "42    0.002295\n",
      "44    0.002059\n",
      "46    0.001722\n",
      "48    0.001506\n",
      "50    0.001166\n",
      "52    0.000942\n",
      "54    0.000739\n",
      "56    0.000638\n",
      "58    0.000501\n",
      "60    0.000389\n",
      "62    0.000288\n",
      "64    0.000214\n",
      "66    0.000140\n",
      "68    0.000106\n",
      "70    0.000053\n",
      "72    0.000037\n",
      "74    0.000022\n",
      "76    0.000019\n",
      "78    0.000020\n",
      "Name: dpa, dtype: float64\n"
     ]
    },
    {
     "name": "stderr",
     "output_type": "stream",
     "text": [
      "/usr/lib/python3/dist-packages/pandas/util/_decorators.py:311: ParserWarning: Falling back to the 'python' engine because the 'c' engine does not support regex separators (separators > 1 char and different from '\\s+' are interpreted as regex); you can avoid this warning by specifying engine='python'.\n",
      "  return func(*args, **kwargs)\n"
     ]
    },
    {
     "data": {
      "image/png": "[encoded data removed]",
      "text/plain": [
       "<Figure size 432x288 with 1 Axes>"
      ]
     },
     "metadata": {
      "needs_background": "light"
     },
     "output_type": "display_data"
    }
   ],
   "source": [
    "#full cascade\n",
    "path='/home/heruhe/Desktop/Ga2o3/combine_cells/SRIM/SRIM_DATA/full_cascade_beta_ga2o3_ni_400kev_2101'\n",
    "fn=path+'/VACANCY.txt'\n",
    "# Read the CSV file with specified parameters\n",
    "df = pd.read_csv(fn, skiprows=29, nrows=100, sep='  ', names=['depth','V_Ni' ,'V1', 'V2'],header=None)\n",
    "\n",
    "# Assuming 'df' is your DataFrame\n",
    "for column in df.columns:\n",
    "    # Replace commas with dots as decimal separator\n",
    "    df[column] = df[column].str.replace(',', '.')\n",
    "    \n",
    "    # Convert to numeric\n",
    "    df[column] = pd.to_numeric(df[column], errors='coerce')\n",
    "df['depth']=df['depth']/10\n",
    "print(df['depth'])\n",
    "#flunce=2.5*10**14\n",
    "flunce=10**12\n",
    "atom_density=9.45*10**22\n",
    "df['dpa']=(df['V_Ni']+df['V1']+df['V2'])*flunce/atom_density*10**8\n",
    "plt.plot(df['depth'],df['dpa'])\n",
    "plt.xlabel('Depth(nm)')\n",
    "plt.ylabel('dpa')\n",
    "print(df)\n",
    "# Extract every two rows to obtain srim dpa\n",
    "srim_dpa = df.iloc[::2].iloc[:40]['dpa']\n",
    "print(srim_dpa)\n",
    "plt.savefig('/home/heruhe/Desktop/Ga2o3/combine_cells/SRIM/SRIM_DATA/full_cascade_beta_ga2o3_ni_400kev_2101/2_10_14.png', transparent=True)"
   ]
  },
  {
   "cell_type": "code",
   "execution_count": 6,
   "id": "19f8b096",
   "metadata": {},
   "outputs": [
    {
     "data": {
      "text/plain": [
       "[<matplotlib.lines.Line2D at 0x7fd70235f1f0>]"
      ]
     },
     "execution_count": 6,
     "metadata": {},
     "output_type": "execute_result"
    },
    {
     "data": {
      "image/png": "[encoded data removed]",
      "text/plain": [
       "<Figure size 432x288 with 1 Axes>"
      ]
     },
     "metadata": {
      "needs_background": "light"
     },
     "output_type": "display_data"
    }
   ],
   "source": [
    "#quick cascade\n",
    "fluence=2*10**13\n",
    "path='/home/heruhe/Desktop/Ga2o3/combine_cells/SRIM/quick_calculation'\n",
    "fn=path+'/400keV-Ni-Ga2O3-KP-He.txt'\n",
    "# Read the CSV file with specified parameters\n",
    "df = pd.read_csv(fn, skiprows=4,  sep=r'\\s+', names=['depth','dpa'],header=None)\n",
    "srim_dpa=df['dpa']/(2*10**13)*2*10**13\n",
    "plt.plot(df['depth'],srim_dpa)\n"
   ]
  },
  {
   "cell_type": "code",
   "execution_count": 3,
   "id": "08a21ee6",
   "metadata": {},
   "outputs": [
    {
     "name": "stdout",
     "output_type": "stream",
     "text": [
      "20.40503411791193 0.0031268756296879514\n"
     ]
    }
   ],
   "source": [
    "\n",
    "#function to calculate displacements-per-atom (dpa)\n",
    "def DPA(E,npka,estop,n,TDE):\n",
    "    #input E:recoil energy\n",
    "    #npka:cascade times\n",
    "    #estop:electronic stopping power,obtained by lammps logfile output stable 'f_elstop'\n",
    "    #n:number of atoms\n",
    "    #TDE: lattice dis-placement energy\n",
    "    #output: dpa value\n",
    "    Td=E-estop\n",
    "    return npka*0.8*Td/(2*TDE*n)\n",
    "TDEO1=17.44\n",
    "TDEO2=17.38\n",
    "TDEO3=17.07\n",
    "TDEGa1=22.91\n",
    "TDEGa2=20.04\n",
    "mO=15.9994\n",
    "mGa=69.72\n",
    "TDEga2o3=((TDEO1+TDEO2+TDEO3)*mO+(TDEGa1+TDEGa2)*mGa)/(2*mGa+3*mO)\n",
    "print(TDEga2o3,DPA(1500,10,193.294,81920,TDEga2o3))\n",
    "def PKA(E,dpa,estop,n,TDE):\n",
    "    #input E:recoil energy\n",
    "        #dpa:dpa value\n",
    "        #estop:electronic stopping power,obtained by lammps logfile output stable 'f_elstop'\n",
    "        #n:number of atoms\n",
    "        #TDE: lattice dis-placement energy\n",
    "    #output: npka cascade times\n",
    "    Td=E-estop\n",
    "    return (2*TDE*n*dpa)/(0.8*Td)\n"
   ]
  },
  {
   "cell_type": "code",
   "execution_count": 7,
   "id": "55b6e59e",
   "metadata": {
    "scrolled": true
   },
   "outputs": [],
   "source": [
    "\n",
    "pkal=[]\n",
    "for i in range(len(srim_dpa)):\n",
    "    dpa=srim_dpa.iloc[i]\n",
    "    #print(dpa)\n",
    "    pka_dpa=PKA(1500,dpa,193.294,81920,TDEga2o3)\n",
    " \n",
    "    pka=round(pka_dpa / 10) * 10\n",
    "    #print(pka_dpa,pka)\n",
    "    pkal.append(pka)\n"
   ]
  },
  {
   "cell_type": "code",
   "execution_count": 8,
   "id": "6bdbc220",
   "metadata": {
    "scrolled": true
   },
   "outputs": [
    {
     "name": "stdout",
     "output_type": "stream",
     "text": [
      "47 [100, 110, 120, 130, 130, 130, 140, 140, 140, 150, 150, 150, 150, 140, 140, 130, 130, 120, 110, 100, 90, 80, 70, 60, 50, 50, 40, 30, 20, 20, 20, 10, 10, 10, 0, 0, 0, 0, 0, 0, 0, 0, 0, 0, 0, 0, 0]\n",
      "Repeated values and their counts:\n",
      "100: 2 times\n",
      "110: 2 times\n",
      "120: 2 times\n",
      "130: 5 times\n",
      "140: 5 times\n",
      "150: 4 times\n",
      "50: 2 times\n",
      "20: 3 times\n",
      "10: 3 times\n",
      "0: 13 times\n"
     ]
    }
   ],
   "source": [
    "#check repeat value\n",
    "\n",
    "from collections import Counter\n",
    "\n",
    "my_list = pkal\n",
    "# Count occurrences of each value\n",
    "counts = Counter(my_list)\n",
    "\n",
    "# Find repeated values and their counts\n",
    "repeat_values = {value: count for value, count in counts.items() if count > 1}\n",
    "print(len(my_list),my_list)\n",
    "print(\"Repeated values and their counts:\")\n",
    "for value, count in repeat_values.items():\n",
    "    print(f\"{value}: {count} times\")\n",
    "\n"
   ]
  },
  {
   "cell_type": "code",
   "execution_count": null,
   "id": "3c5ad2b9",
   "metadata": {},
   "outputs": [],
   "source": [
    "for i in 100, 110, 120, 130, 130, 130, 140, 140, 140, 150, 150, 150, 150, 140, 140, 130, 130, 120, 110, 100, 90, 80, 70, 60, 50, 50, 40, 30, 20, 20, 20, 10\n",
    "do\n",
    "  scp -r heruhe@turso.cs.helsinki.fi:/wrk-vakka/users/heruhe/ga2o3/overlapping/cascade_anneal/cascade_anneal/small1500ev/out/data.lastframe-\"$i\" .\n",
    "done\n",
    "\n"
   ]
  },
  {
   "cell_type": "code",
   "execution_count": 33,
   "id": "34b71a09",
   "metadata": {},
   "outputs": [
    {
     "name": "stdout",
     "output_type": "stream",
     "text": [
      "{10: [0, 1, 2, 3, 4, 5, 6, 7, 8, 9, 10, 11, 12, 13, 14, 15, 16, 17, 18, 19], 0: [20, 21, 22, 23, 24, 25, 26, 27, 28, 29, 30, 31, 32, 33, 34, 35, 36, 37, 38, 39, 40, 41, 42, 43, 44, 45, 46]}\n",
      "[10, 11, 12, 13, 14, 15, 16, 17, 18, 19, 20, 21, 22, 23, 24, 10, 10, 10, 10, 10, 0, 1, 2, 3, 4, 5, 6, 7, 8, 9, 10, 11, 12, 13, 14, 0, 0, 0, 0, 0, 0, 0, 0, 0, 0, 0, 0]\n"
     ]
    }
   ],
   "source": [
    "\n",
    "# Create a dictionary to store the indices of repeated values\n",
    "repeated_indices = {}\n",
    "for i, value in enumerate(my_list):\n",
    "    if my_list.count(value) > 1:\n",
    "        if value not in repeated_indices:\n",
    "            repeated_indices[value] = []\n",
    "        repeated_indices[value].append(i)\n",
    "print(repeated_indices)\n",
    "# Modify the list by incrementing the second occurrence of each repeated value\n",
    "for value, indices in repeated_indices.items():\n",
    "    pkal[indices[1]] = value + 1\n",
    "    try:\n",
    "        for j in range(15):\n",
    "            pkal[indices[j]] = value + j\n",
    "\n",
    "    except:\n",
    "        continue\n",
    "#rename the file to 1 to 40\n",
    "print(pkal)"
   ]
  },
  {
   "cell_type": "code",
   "execution_count": 14,
   "id": "92bf63ae",
   "metadata": {},
   "outputs": [
    {
     "name": "stdout",
     "output_type": "stream",
     "text": [
      "47\n"
     ]
    }
   ],
   "source": [
    "pkal=[100, 110, 120, 130, 131, 132, 140, 141, 142, 150, 151, 152, 153, 143, 144, 133, 134, 121, 111, 101, 90, 80, 70, 60, 50, 51, 40, 30, 20, 21, 22, 14, 15, 16, 0, 1, 2, 3, 4, 5, 6, 7, 8, 9, 10, 11, 12]\n",
    "path = '/home/heruhe/Desktop/Ga2o3/combine_cells/2_10_13_fluence/quick2_2_10_13/2_10_13'\n",
    "os.chdir(path)\n",
    "\n",
    "i = 1\n",
    "for pka in pkal:\n",
    "    fn0 = 'data.lastframe-{}'.format(pka)\n",
    "    fn_m='data.frame-{}'.format(pka)\n",
    "    fn_new = 'data.lastframe-{}'.format(i)\n",
    "    #os.system('mv {} {}'.format(fn0, fn_m))\n",
    "    os.system('mv {} {}'.format(fn_m, fn_new))\n",
    "    i += 1\n",
    "print(len(pkal))"
   ]
  },
  {
   "cell_type": "code",
   "execution_count": null,
   "id": "8f71d190",
   "metadata": {},
   "outputs": [],
   "source": []
  }
 ],
 "metadata": {
  "kernelspec": {
   "display_name": "Python 3 (ipykernel)",
   "language": "python",
   "name": "python3"
  },
  "language_info": {
   "codemirror_mode": {
    "name": "ipython",
    "version": 3
   },
   "file_extension": ".py",
   "mimetype": "text/x-python",
   "name": "python",
   "nbconvert_exporter": "python",
   "pygments_lexer": "ipython3",
   "version": "3.10.12"
  }
 },
 "nbformat": 4,
 "nbformat_minor": 5
}
