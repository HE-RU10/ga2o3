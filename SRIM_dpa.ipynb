{
 "cells": [
  {
   "cell_type": "code",
   "execution_count": 1,
   "id": "77f54406",
   "metadata": {},
   "outputs": [],
   "source": [
    "#calculate dpa through SRIM simulation\n",
    "import pandas as pd\n",
    "import numpy as np\n",
    "import matplotlib.pyplot as plt\n",
    "import os \n"
   ]
  },
  {
   "cell_type": "code",
   "execution_count": 16,
   "id": "f7210f99",
   "metadata": {},
   "outputs": [
    {
     "name": "stderr",
     "output_type": "stream",
     "text": [
      "/var/folders/k_/k89n8v0j34j1rkb6vmcfvz7c0000gn/T/ipykernel_16495/1344124510.py:4: ParserWarning: Falling back to the 'python' engine because the 'c' engine does not support regex separators (separators > 1 char and different from '\\s+' are interpreted as regex); you can avoid this warning by specifying engine='python'.\n",
      "  v = pd.read_csv(fn, skiprows=28, nrows=100, sep='  ', names=['depth', 'V1', 'V2'],header=None)\n"
     ]
    },
    {
     "data": {
      "text/html": [
       "<div>\n",
       "<style scoped>\n",
       "    .dataframe tbody tr th:only-of-type {\n",
       "        vertical-align: middle;\n",
       "    }\n",
       "\n",
       "    .dataframe tbody tr th {\n",
       "        vertical-align: top;\n",
       "    }\n",
       "\n",
       "    .dataframe thead th {\n",
       "        text-align: right;\n",
       "    }\n",
       "</style>\n",
       "<table border=\"1\" class=\"dataframe\">\n",
       "  <thead>\n",
       "    <tr style=\"text-align: right;\">\n",
       "      <th></th>\n",
       "      <th>depth</th>\n",
       "      <th>V1</th>\n",
       "      <th>V2</th>\n",
       "      <th>dpa</th>\n",
       "    </tr>\n",
       "  </thead>\n",
       "  <tbody>\n",
       "    <tr>\n",
       "      <th>0</th>\n",
       "      <td>100.01</td>\n",
       "      <td>0.059465</td>\n",
       "      <td>1.53345</td>\n",
       "      <td>0.337125</td>\n",
       "    </tr>\n",
       "    <tr>\n",
       "      <th>1</th>\n",
       "      <td>200.01</td>\n",
       "      <td>0.065147</td>\n",
       "      <td>1.65111</td>\n",
       "      <td>0.363229</td>\n",
       "    </tr>\n",
       "    <tr>\n",
       "      <th>2</th>\n",
       "      <td>300.01</td>\n",
       "      <td>0.069063</td>\n",
       "      <td>1.76092</td>\n",
       "      <td>0.387298</td>\n",
       "    </tr>\n",
       "    <tr>\n",
       "      <th>3</th>\n",
       "      <td>400.01</td>\n",
       "      <td>0.072362</td>\n",
       "      <td>1.84354</td>\n",
       "      <td>0.405482</td>\n",
       "    </tr>\n",
       "    <tr>\n",
       "      <th>4</th>\n",
       "      <td>500.01</td>\n",
       "      <td>0.076144</td>\n",
       "      <td>1.92015</td>\n",
       "      <td>0.422496</td>\n",
       "    </tr>\n",
       "    <tr>\n",
       "      <th>...</th>\n",
       "      <td>...</td>\n",
       "      <td>...</td>\n",
       "      <td>...</td>\n",
       "      <td>...</td>\n",
       "    </tr>\n",
       "    <tr>\n",
       "      <th>95</th>\n",
       "      <td>9600.01</td>\n",
       "      <td>0.000000</td>\n",
       "      <td>0.00000</td>\n",
       "      <td>0.000000</td>\n",
       "    </tr>\n",
       "    <tr>\n",
       "      <th>96</th>\n",
       "      <td>9700.01</td>\n",
       "      <td>0.000000</td>\n",
       "      <td>0.00000</td>\n",
       "      <td>0.000000</td>\n",
       "    </tr>\n",
       "    <tr>\n",
       "      <th>97</th>\n",
       "      <td>9800.01</td>\n",
       "      <td>0.000000</td>\n",
       "      <td>0.00000</td>\n",
       "      <td>0.000000</td>\n",
       "    </tr>\n",
       "    <tr>\n",
       "      <th>98</th>\n",
       "      <td>9900.01</td>\n",
       "      <td>0.000000</td>\n",
       "      <td>0.00000</td>\n",
       "      <td>0.000000</td>\n",
       "    </tr>\n",
       "    <tr>\n",
       "      <th>99</th>\n",
       "      <td>10000.00</td>\n",
       "      <td>0.000000</td>\n",
       "      <td>0.00000</td>\n",
       "      <td>0.000000</td>\n",
       "    </tr>\n",
       "  </tbody>\n",
       "</table>\n",
       "<p>100 rows × 4 columns</p>\n",
       "</div>"
      ],
      "text/plain": [
       "       depth        V1       V2       dpa\n",
       "0     100.01  0.059465  1.53345  0.337125\n",
       "1     200.01  0.065147  1.65111  0.363229\n",
       "2     300.01  0.069063  1.76092  0.387298\n",
       "3     400.01  0.072362  1.84354  0.405482\n",
       "4     500.01  0.076144  1.92015  0.422496\n",
       "..       ...       ...      ...       ...\n",
       "95   9600.01  0.000000  0.00000  0.000000\n",
       "96   9700.01  0.000000  0.00000  0.000000\n",
       "97   9800.01  0.000000  0.00000  0.000000\n",
       "98   9900.01  0.000000  0.00000  0.000000\n",
       "99  10000.00  0.000000  0.00000  0.000000\n",
       "\n",
       "[100 rows x 4 columns]"
      ]
     },
     "execution_count": 16,
     "metadata": {},
     "output_type": "execute_result"
    },
    {
     "data": {
      "image/png": "[encoded data removed]",
      "text/plain": [
       "<Figure size 640x480 with 1 Axes>"
      ]
     },
     "metadata": {},
     "output_type": "display_data"
    }
   ],
   "source": [
    "path='/Users/ruhe/Desktop/ga2o3/SRIM_dpa'\n",
    "fn=path+'/VACANCY.txt'\n",
    "# Read the CSV file with specified parameters\n",
    "v = pd.read_csv(fn, skiprows=28, nrows=100, sep='  ', names=['depth', 'V1', 'V2'],header=None)\n",
    "flunce=2*10**14\n",
    "atom_density=9.45*10**22\n",
    "v['dpa']=(v['V1']+v['V2'])*flunce/atom_density*10**8\n",
    "plt.plot(v['depth'][0:25],v['dpa'][0:25])\n",
    "v"
   ]
  },
  {
   "cell_type": "code",
   "execution_count": 4,
   "id": "08a21ee6",
   "metadata": {},
   "outputs": [],
   "source": [
    "\n",
    "#function to calculate displacements-per-atom (dpa)\n",
    "def DPA(E,npka,estop,n,TDE):\n",
    "    #input E:recoil energy\n",
    "    #npka:cascade times\n",
    "    #estop:electronic stopping power,obtained by lammps logfile output stable 'f_elstop'\n",
    "    #n:number of atoms\n",
    "    #TDE: lattice dis-placement energy\n",
    "    #output: dpa value\n",
    "    Td=E-estop\n",
    "    return npka*0.8*Td/(2*TDE*n)\n",
    "TDEO1=16.69665071770335\n",
    "TDEO2=17.730616302186878\n",
    "TDEO3=16.35593220338983\n",
    "TDEGa1=22.164750957854405\n",
    "TDEGa2=19.410679611650487\n",
    "mO=15.9994\n",
    "mGa=69.72\n",
    "TDEga2o3=((TDEO1+TDEO2+TDEO3)*mO+(TDEGa1+TDEGa2)*mGa)/(2*mGa+3*mO)"
   ]
  },
  {
   "cell_type": "code",
   "execution_count": 19,
   "id": "3c048166",
   "metadata": {},
   "outputs": [
    {
     "data": {
      "text/plain": [
       "0.0032225430710353087"
      ]
     },
     "execution_count": 19,
     "metadata": {},
     "output_type": "execute_result"
    }
   ],
   "source": [
    "DPA(1500,10,193.294,81920,TDEga2o3)"
   ]
  },
  {
   "cell_type": "code",
   "execution_count": 21,
   "id": "55b6e59e",
   "metadata": {},
   "outputs": [
    {
     "data": {
      "text/plain": [
       "[1040,\n",
       " 1120,\n",
       " 1190,\n",
       " 1250,\n",
       " 1300,\n",
       " 1330,\n",
       " 1380,\n",
       " 1430,\n",
       " 1460,\n",
       " 1470,\n",
       " 1470,\n",
       " 1470,\n",
       " 1450,\n",
       " 1430,\n",
       " 1360,\n",
       " 1300,\n",
       " 1230,\n",
       " 1120,\n",
       " 1030,\n",
       " 930,\n",
       " 820,\n",
       " 710,\n",
       " 590,\n",
       " 490,\n",
       " 410]"
      ]
     },
     "execution_count": 21,
     "metadata": {},
     "output_type": "execute_result"
    }
   ],
   "source": [
    "pkal=np.zeros(100)\n",
    "i=0\n",
    "for dpa in v['dpa']:\n",
    "    \n",
    "    for pka in range(0,2001,10):\n",
    "        c_dpa=DPA(1500,pka,193.294,81920,TDEga2o3)\n",
    "        if np.abs(c_dpa-dpa)<=0.004:\n",
    "            pkal[i]=int(pka)\n",
    "            i+=1\n",
    "            break\n",
    "pkal= [int(num) for num in pkal]\n",
    "v['pka']=pkal\n",
    "pkal[:25]\n"
   ]
  },
  {
   "cell_type": "code",
   "execution_count": null,
   "id": "3c5ad2b9",
   "metadata": {},
   "outputs": [],
   "source": []
  }
 ],
 "metadata": {
  "kernelspec": {
   "display_name": "Python 3 (ipykernel)",
   "language": "python",
   "name": "python3"
  },
  "language_info": {
   "codemirror_mode": {
    "name": "ipython",
    "version": 3
   },
   "file_extension": ".py",
   "mimetype": "text/x-python",
   "name": "python",
   "nbconvert_exporter": "python",
   "pygments_lexer": "ipython3",
   "version": "3.10.10"
  }
 },
 "nbformat": 4,
 "nbformat_minor": 5
}
