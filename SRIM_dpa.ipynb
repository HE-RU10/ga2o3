{
 "cells": [
  {
   "cell_type": "code",
   "execution_count": 4,
   "id": "77f54406",
   "metadata": {},
   "outputs": [],
   "source": [
    "#calculate dpa through SRIM simulation\n",
    "import pandas as pd\n",
    "import numpy as np\n",
    "import matplotlib.pyplot as plt\n",
    "import os \n"
   ]
  },
  {
   "cell_type": "code",
   "execution_count": 22,
   "id": "f7210f99",
   "metadata": {},
   "outputs": [
    {
     "name": "stderr",
     "output_type": "stream",
     "text": [
      "/usr/lib/python3/dist-packages/pandas/util/_decorators.py:311: ParserWarning: Falling back to the 'python' engine because the 'c' engine does not support regex separators (separators > 1 char and different from '\\s+' are interpreted as regex); you can avoid this warning by specifying engine='python'.\n",
      "  return func(*args, **kwargs)\n"
     ]
    },
    {
     "data": {
      "text/plain": [
       "0     0.343689\n",
       "1     0.366961\n",
       "2     0.397418\n",
       "3     0.420378\n",
       "4     0.436167\n",
       "5     0.444227\n",
       "6     0.457665\n",
       "7     0.465339\n",
       "8     0.488127\n",
       "9     0.475895\n",
       "10    0.484583\n",
       "11    0.485530\n",
       "12    0.480712\n",
       "13    0.468030\n",
       "14    0.441505\n",
       "15    0.421891\n",
       "16    0.400695\n",
       "17    0.362562\n",
       "18    0.332262\n",
       "19    0.295030\n",
       "20    0.261204\n",
       "21    0.228158\n",
       "22    0.197593\n",
       "23    0.158269\n",
       "24    0.129950\n",
       "Name: dpa, dtype: float64"
      ]
     },
     "execution_count": 22,
     "metadata": {},
     "output_type": "execute_result"
    },
    {
     "data": {
      "image/png": "[encoded data removed]",
      "text/plain": [
       "<Figure size 432x288 with 1 Axes>"
      ]
     },
     "metadata": {
      "needs_background": "light"
     },
     "output_type": "display_data"
    }
   ],
   "source": [
    "path='/Users/ruhe/Desktop/ga2o3/SRIM_dpa'\n",
    "path='/home/heruhe/Desktop/Ga2o3/combine_cells/SRIM/quick_calculation'\n",
    "fn=path+'/VACANCY.txt'\n",
    "# Read the CSV file with specified parameters\n",
    "v = pd.read_csv(fn, skiprows=28, nrows=100, sep='  ', names=['depth', 'V1', 'V2'],header=None)\n",
    "flunce=2*10**14\n",
    "atom_density=9.45*10**22\n",
    "v['dpa']=(v['V1']+v['V2'])*flunce/atom_density*10**8\n",
    "plt.plot(v['depth'][0:25],v['dpa'][0:25])\n",
    "v['dpa'].iloc[:25]"
   ]
  },
  {
   "cell_type": "code",
   "execution_count": 6,
   "id": "08a21ee6",
   "metadata": {},
   "outputs": [
    {
     "name": "stdout",
     "output_type": "stream",
     "text": [
      "21.475 17.296666666666667\n"
     ]
    }
   ],
   "source": [
    "\n",
    "#function to calculate displacements-per-atom (dpa)\n",
    "def DPA(E,npka,estop,n,TDE):\n",
    "    #input E:recoil energy\n",
    "    #npka:cascade times\n",
    "    #estop:electronic stopping power,obtained by lammps logfile output stable 'f_elstop'\n",
    "    #n:number of atoms\n",
    "    #TDE: lattice dis-placement energy\n",
    "    #output: dpa value\n",
    "    Td=E-estop\n",
    "    return npka*0.8*Td/(2*TDE*n)\n",
    "TDEO1=17.44\n",
    "TDEO2=17.38\n",
    "TDEO3=17.07\n",
    "TDEGa1=22.91\n",
    "TDEGa2=20.04\n",
    "mO=15.9994\n",
    "mGa=69.72\n",
    "TDEga2o3=((TDEO1+TDEO2+TDEO3)*mO+(TDEGa1+TDEGa2)*mGa)/(2*mGa+3*mO)\n",
    "print((TDEGa1+TDEGa2)/2,(TDEO1+TDEO2+TDEO3)/3)"
   ]
  },
  {
   "cell_type": "code",
   "execution_count": 16,
   "id": "3c048166",
   "metadata": {},
   "outputs": [
    {
     "data": {
      "text/plain": [
       "0.0031268756296879514"
      ]
     },
     "execution_count": 16,
     "metadata": {},
     "output_type": "execute_result"
    }
   ],
   "source": [
    "DPA(1500,10,193.294,81920,TDEga2o3)"
   ]
  },
  {
   "cell_type": "code",
   "execution_count": 40,
   "id": "55b6e59e",
   "metadata": {},
   "outputs": [
    {
     "name": "stdout",
     "output_type": "stream",
     "text": [
      "1100\n",
      "1170\n",
      "1270\n",
      "1340\n",
      "1390\n",
      "1420\n",
      "1460\n",
      "1490\n",
      "1560\n",
      "1520\n",
      "1550\n",
      "1550\n",
      "1540\n",
      "1500\n",
      "1410\n",
      "1350\n",
      "1280\n",
      "1160\n",
      "1060\n",
      "940\n",
      "830\n",
      "730\n",
      "630\n",
      "500\n",
      "410\n",
      "[1100. 1170. 1270. 1340. 1390. 1420. 1460. 1490. 1560. 1520. 1550. 1550.\n",
      " 1540. 1500. 1410. 1350. 1280. 1160. 1060.  940.  830.  730.  630.  500.\n",
      "  410.]\n"
     ]
    }
   ],
   "source": [
    "pkal=np.zeros(25)\n",
    "i=0\n",
    "for dpa in v['dpa'].iloc[:25]:\n",
    "\n",
    "    for pka in range(0,2001,10):\n",
    "        c_dpa=DPA(1500,pka,193.294,81920,TDEga2o3)\n",
    "        if np.abs(c_dpa-dpa)<=0.002:\n",
    "            print(pka)\n",
    "            pkal[i]=pka\n",
    "            i+=1\n",
    "            break\n",
    "\n",
    "print(pkal)\n"
   ]
  },
  {
   "cell_type": "code",
   "execution_count": null,
   "id": "3c5ad2b9",
   "metadata": {},
   "outputs": [],
   "source": [
    "for i in 1100. 1170. 1270. 1340. 1390. 1420. 1460. 1490. 1560. 1520. 1550. 1550. 1540. 1500. 1410. 1350. 1280. 1160. 1060.  940.  830.  730.  630.  500. 410\n",
    "do                                             \n",
    "  scp -r heru1111@mahti.csc.fi:/scratch/djurabek/heru/ga2o3/overlapping/cascade_anneal/small1500ev/out/data.lastframe-\"$i\" .\n",
    "done                                        \n",
    "\n"
   ]
  }
 ],
 "metadata": {
  "kernelspec": {
   "display_name": "Python 3 (ipykernel)",
   "language": "python",
   "name": "python3"
  },
  "language_info": {
   "codemirror_mode": {
    "name": "ipython",
    "version": 3
   },
   "file_extension": ".py",
   "mimetype": "text/x-python",
   "name": "python",
   "nbconvert_exporter": "python",
   "pygments_lexer": "ipython3",
   "version": "3.10.12"
  }
 },
 "nbformat": 4,
 "nbformat_minor": 5
}
