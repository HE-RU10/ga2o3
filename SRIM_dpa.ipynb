{
 "cells": [
  {
   "cell_type": "code",
   "execution_count": 2,
   "id": "77f54406",
   "metadata": {},
   "outputs": [],
   "source": [
    "#calculate dpa through SRIM simulation\n",
    "import pandas as pd\n",
    "import numpy as np\n",
    "import matplotlib.pyplot as plt\n",
    "import os \n"
   ]
  },
  {
   "cell_type": "code",
   "execution_count": 27,
   "id": "f7210f99",
   "metadata": {},
   "outputs": [
    {
     "name": "stdout",
     "output_type": "stream",
     "text": [
      "0     0.058700\n",
      "1     0.064075\n",
      "2     0.065075\n",
      "3     0.068925\n",
      "4     0.070875\n",
      "        ...   \n",
      "95    0.000175\n",
      "96    0.000375\n",
      "97    0.000050\n",
      "98    0.000000\n",
      "99    0.000000\n",
      "Name: V_Ni, Length: 100, dtype: float64\n"
     ]
    },
    {
     "name": "stderr",
     "output_type": "stream",
     "text": [
      "/var/folders/k_/k89n8v0j34j1rkb6vmcfvz7c0000gn/T/ipykernel_69423/1863751948.py:6: ParserWarning: Falling back to the 'python' engine because the 'c' engine does not support regex separators (separators > 1 char and different from '\\s+' are interpreted as regex); you can avoid this warning by specifying engine='python'.\n",
      "  df = pd.read_csv(fn, skiprows=29, nrows=100, sep='  ', names=['depth','V_Ni' ,'V1', 'V2'],header=None)\n"
     ]
    },
    {
     "data": {
      "text/plain": [
       "[<matplotlib.lines.Line2D at 0x136bfe650>]"
      ]
     },
     "execution_count": 27,
     "metadata": {},
     "output_type": "execute_result"
    },
    {
     "data": {
      "image/png": "[encoded data removed]",
      "text/plain": [
       "<Figure size 640x480 with 1 Axes>"
      ]
     },
     "metadata": {},
     "output_type": "display_data"
    }
   ],
   "source": [
    "path='/Users/ruhe/Desktop/ga2o3/SRIM_dpa'\n",
    "path='/home/heruhe/Desktop/Ga2o3/combine_cells/SRIM/quick_calculation'\n",
    "path='/Users/ruhe/Desktop/ga2o3/SRIM_dpa/full_cascade-beta-ga2o3-Ni-400kev-1000'\n",
    "fn=path+'/VACANCY.txt'\n",
    "# Read the CSV file with specified parameters\n",
    "df = pd.read_csv(fn, skiprows=29, nrows=100, sep='  ', names=['depth','V_Ni' ,'V1', 'V2'],header=None)\n",
    "\n",
    "# Assuming 'df' is your DataFrame\n",
    "for column in df.columns:\n",
    "    # Replace commas with dots as decimal separator\n",
    "    df[column] = df[column].str.replace(',', '.')\n",
    "    \n",
    "    # Convert to numeric\n",
    "    df[column] = pd.to_numeric(df[column], errors='coerce')\n",
    "\n",
    "print(df['V_Ni'])\n",
    "flunce=2*10**14\n",
    "atom_density=9.45*10**22\n",
    "df['dpa']=(df['V_Ni']+df['V1']+df['V2'])*flunce/atom_density*10**8\n",
    "plt.plot(df['depth'],df['dpa'])\n"
   ]
  },
  {
   "cell_type": "code",
   "execution_count": null,
   "id": "024fcb69",
   "metadata": {},
   "outputs": [],
   "source": []
  },
  {
   "cell_type": "code",
   "execution_count": 30,
   "id": "08a21ee6",
   "metadata": {},
   "outputs": [
    {
     "name": "stdout",
     "output_type": "stream",
     "text": [
      "21.475 17.296666666666667\n"
     ]
    }
   ],
   "source": [
    "\n",
    "#function to calculate displacements-per-atom (dpa)\n",
    "def DPA(E,npka,estop,n,TDE):\n",
    "    #input E:recoil energy\n",
    "    #npka:cascade times\n",
    "    #estop:electronic stopping power,obtained by lammps logfile output stable 'f_elstop'\n",
    "    #n:number of atoms\n",
    "    #TDE: lattice dis-placement energy\n",
    "    #output: dpa value\n",
    "    Td=E-estop\n",
    "    return npka*0.8*Td/(2*TDE*n)\n",
    "TDEO1=17.44\n",
    "TDEO2=17.38\n",
    "TDEO3=17.07\n",
    "TDEGa1=22.91\n",
    "TDEGa2=20.04\n",
    "mO=15.9994\n",
    "mGa=69.72\n",
    "TDEga2o3=((TDEO1+TDEO2+TDEO3)*mO+(TDEGa1+TDEGa2)*mGa)/(2*mGa+3*mO)\n",
    "print((TDEGa1+TDEGa2)/2,(TDEO1+TDEO2+TDEO3)/3)"
   ]
  },
  {
   "cell_type": "code",
   "execution_count": 31,
   "id": "3c048166",
   "metadata": {},
   "outputs": [
    {
     "data": {
      "text/plain": [
       "0.0031268756296879514"
      ]
     },
     "execution_count": 31,
     "metadata": {},
     "output_type": "execute_result"
    }
   ],
   "source": [
    "DPA(1500,10,193.294,81920,TDEga2o3)"
   ]
  },
  {
   "cell_type": "code",
   "execution_count": 35,
   "id": "55b6e59e",
   "metadata": {},
   "outputs": [
    {
     "name": "stdout",
     "output_type": "stream",
     "text": [
      "900\n",
      "1200\n",
      "1470\n",
      "1660\n",
      "1740\n",
      "1800\n",
      "1820\n",
      "1990\n",
      "2000\n",
      "1950\n",
      "2000\n",
      "1990\n",
      "1820\n",
      "1760\n",
      "1740\n",
      "1610\n",
      "1550\n",
      "1510\n",
      "1440\n",
      "1300\n",
      "1220\n",
      "1220\n",
      "1170\n",
      "1050\n",
      "920\n",
      "900\n",
      "920\n",
      "760\n",
      "720\n",
      "720\n",
      "610\n",
      "540\n",
      "480\n",
      "440\n",
      "390\n",
      "380\n",
      "320\n",
      "270\n",
      "300\n",
      "270\n",
      "200\n"
     ]
    },
    {
     "ename": "IndexError",
     "evalue": "index 40 is out of bounds for axis 0 with size 40",
     "output_type": "error",
     "traceback": [
      "\u001b[0;31m---------------------------------------------------------------------------\u001b[0m",
      "\u001b[0;31mIndexError\u001b[0m                                Traceback (most recent call last)",
      "Cell \u001b[0;32mIn[35], line 9\u001b[0m\n\u001b[1;32m      7\u001b[0m \u001b[38;5;28;01mif\u001b[39;00m np\u001b[38;5;241m.\u001b[39mabs(c_dpa\u001b[38;5;241m-\u001b[39mdpa)\u001b[38;5;241m<\u001b[39m\u001b[38;5;241m=\u001b[39m\u001b[38;5;241m0.002\u001b[39m:\n\u001b[1;32m      8\u001b[0m     \u001b[38;5;28mprint\u001b[39m(pka)\n\u001b[0;32m----> 9\u001b[0m     pkal[i]\u001b[38;5;241m=\u001b[39mpka\n\u001b[1;32m     10\u001b[0m     i\u001b[38;5;241m+\u001b[39m\u001b[38;5;241m=\u001b[39m\u001b[38;5;241m1\u001b[39m\n\u001b[1;32m     11\u001b[0m     \u001b[38;5;28;01mbreak\u001b[39;00m\n",
      "\u001b[0;31mIndexError\u001b[0m: index 40 is out of bounds for axis 0 with size 40"
     ]
    }
   ],
   "source": [
    "\n",
    "pkal=np.zeros(40)\n",
    "i=0\n",
    "for dpa in df['dpa']:\n",
    "\n",
    "    for pka in range(0,2001,10):\n",
    "        c_dpa=DPA(1500,pka,193.294,81920,TDEga2o3)\n",
    "        if np.abs(c_dpa-dpa)<=0.002:\n",
    "            print(pka)\n",
    "            pkal[i]=pka\n",
    "            i+=1\n",
    "            break\n",
    "\n",
    "print(pkal)\n"
   ]
  },
  {
   "cell_type": "code",
   "execution_count": null,
   "id": "3c5ad2b9",
   "metadata": {},
   "outputs": [],
   "source": [
    "for i in 1100. 1170. 1270. 1340. 1390. 1420. 1460. 1490. 1560. 1520. 1550. 1550. 1540. 1500. 1410. 1350. 1280. 1160. 1060.  940.  830.  730.  630.  500. 410\n",
    "do                                             \n",
    "  scp -r heru1111@mahti.csc.fi:/scratch/djurabek/heru/ga2o3/overlapping/cascade_anneal/small1500ev/out/data.lastframe-\"$i\" .\n",
    "done                                        \n",
    "\n"
   ]
  }
 ],
 "metadata": {
  "kernelspec": {
   "display_name": "Python 3 (ipykernel)",
   "language": "python",
   "name": "python3"
  },
  "language_info": {
   "codemirror_mode": {
    "name": "ipython",
    "version": 3
   },
   "file_extension": ".py",
   "mimetype": "text/x-python",
   "name": "python",
   "nbconvert_exporter": "python",
   "pygments_lexer": "ipython3",
   "version": "3.10.10"
  }
 },
 "nbformat": 4,
 "nbformat_minor": 5
}
