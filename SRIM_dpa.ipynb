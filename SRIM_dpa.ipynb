{
 "cells": [
  {
   "cell_type": "code",
   "execution_count": 1,
   "id": "77f54406",
   "metadata": {},
   "outputs": [],
   "source": [
    "#calculate dpa through SRIM simulation\n",
    "import pandas as pd\n",
    "import numpy as np\n",
    "import matplotlib.pyplot as plt\n",
    "import os \n"
   ]
  },
  {
   "cell_type": "code",
   "execution_count": 97,
   "id": "f7210f99",
   "metadata": {},
   "outputs": [
    {
     "name": "stdout",
     "output_type": "stream",
     "text": [
      "0       5.001\n",
      "1      10.001\n",
      "2      15.001\n",
      "3      20.001\n",
      "4      25.001\n",
      "       ...   \n",
      "95    480.001\n",
      "96    485.001\n",
      "97    490.001\n",
      "98    495.001\n",
      "99    500.001\n",
      "Name: depth, Length: 100, dtype: float64\n",
      "      depth      V_Ni        V1        V2       dpa\n",
      "0     5.001  0.061045  0.373530  0.993758  0.030229\n",
      "1    10.001  0.064756  0.500043  1.340790  0.040330\n",
      "2    15.001  0.066107  0.581600  1.588960  0.047337\n",
      "3    20.001  0.069250  0.621905  1.703720  0.050685\n",
      "4    25.001  0.071056  0.662624  1.816780  0.053978\n",
      "..      ...       ...       ...       ...       ...\n",
      "95  480.001  0.000000  0.000228  0.000768  0.000021\n",
      "96  485.001  0.000000  0.000192  0.000619  0.000017\n",
      "97  490.001  0.000000  0.000057  0.000135  0.000004\n",
      "98  495.001  0.000000  0.000071  0.000121  0.000004\n",
      "99  500.001  0.000000  0.000107  0.000213  0.000007\n",
      "\n",
      "[100 rows x 5 columns]\n",
      "0     0.030229\n",
      "2     0.047337\n",
      "4     0.053978\n",
      "6     0.061106\n",
      "8     0.064199\n",
      "10    0.072584\n",
      "12    0.077082\n",
      "14    0.080531\n",
      "16    0.082582\n",
      "18    0.083863\n",
      "20    0.082687\n",
      "22    0.083487\n",
      "24    0.082079\n",
      "26    0.077608\n",
      "28    0.075958\n",
      "30    0.073260\n",
      "32    0.072507\n",
      "34    0.067691\n",
      "36    0.063399\n",
      "38    0.055256\n",
      "40    0.051000\n",
      "42    0.045895\n",
      "44    0.041172\n",
      "46    0.034447\n",
      "48    0.030122\n",
      "50    0.023324\n",
      "52    0.018831\n",
      "54    0.014779\n",
      "56    0.012750\n",
      "58    0.010013\n",
      "60    0.007774\n",
      "62    0.005759\n",
      "64    0.004281\n",
      "66    0.002795\n",
      "68    0.002117\n",
      "70    0.001052\n",
      "72    0.000747\n",
      "74    0.000446\n",
      "76    0.000372\n",
      "78    0.000404\n",
      "Name: dpa, dtype: float64\n"
     ]
    },
    {
     "name": "stderr",
     "output_type": "stream",
     "text": [
      "/usr/lib/python3/dist-packages/pandas/util/_decorators.py:311: ParserWarning: Falling back to the 'python' engine because the 'c' engine does not support regex separators (separators > 1 char and different from '\\s+' are interpreted as regex); you can avoid this warning by specifying engine='python'.\n",
      "  return func(*args, **kwargs)\n"
     ]
    },
    {
     "data": {
      "image/png": "[encoded data removed]",
      "text/plain": [
       "<Figure size 432x288 with 1 Axes>"
      ]
     },
     "metadata": {
      "needs_background": "light"
     },
     "output_type": "display_data"
    }
   ],
   "source": [
    "#full cascade\n",
    "path='/home/heruhe/Desktop/Ga2o3/combine_cells/SRIM/SRIM_DATA/full_cascade_beta_ga2o3_ni_400kev_2101'\n",
    "fn=path+'/VACANCY.txt'\n",
    "# Read the CSV file with specified parameters\n",
    "df = pd.read_csv(fn, skiprows=29, nrows=100, sep='  ', names=['depth','V_Ni' ,'V1', 'V2'],header=None)\n",
    "\n",
    "# Assuming 'df' is your DataFrame\n",
    "for column in df.columns:\n",
    "    # Replace commas with dots as decimal separator\n",
    "    df[column] = df[column].str.replace(',', '.')\n",
    "    \n",
    "    # Convert to numeric\n",
    "    df[column] = pd.to_numeric(df[column], errors='coerce')\n",
    "df['depth']=df['depth']/10\n",
    "print(df['depth'])\n",
    "#flunce=2.5*10**14\n",
    "flunce=2*10**13\n",
    "atom_density=9.45*10**22\n",
    "df['dpa']=(df['V_Ni']+df['V1']+df['V2'])*flunce/atom_density*10**8\n",
    "plt.plot(df['depth'],df['dpa'])\n",
    "plt.xlabel('Depth(nm)')\n",
    "plt.ylim([0,5])\n",
    "plt.ylabel('dpa')\n",
    "print(df)\n",
    "# Extract every two rows to obtain srim dpa\n",
    "srim_dpa = df.iloc[::2].iloc[:40]['dpa']\n",
    "print(srim_dpa)\n",
    "plt.savefig('/home/heruhe/Desktop/Ga2o3/combine_cells/SRIM/SRIM_DATA/full_cascade_beta_ga2o3_ni_400kev_2101/2_10_14.png', transparent=True)"
   ]
  },
  {
   "cell_type": "code",
   "execution_count": 111,
   "id": "19f8b096",
   "metadata": {},
   "outputs": [],
   "source": [
    "#quick cascade\n",
    "path='/home/heruhe/Desktop/Ga2o3/combine_cells/SRIM/quick_calculation'\n",
    "fn=path+'/400keV-Ni-Ga2O3-KP-He.txt'\n",
    "# Read the CSV file with specified parameters\n",
    "df = pd.read_csv(fn, skiprows=4,  sep=r'\\s+', names=['depth','dpa'],header=None)\n",
    "srim_dpa=df['dpa']"
   ]
  },
  {
   "cell_type": "code",
   "execution_count": 118,
   "id": "08a21ee6",
   "metadata": {},
   "outputs": [
    {
     "name": "stdout",
     "output_type": "stream",
     "text": [
      "20.40503411791193\n"
     ]
    }
   ],
   "source": [
    "\n",
    "#function to calculate displacements-per-atom (dpa)\n",
    "def DPA(E,npka,estop,n,TDE):\n",
    "    #input E:recoil energy\n",
    "    #npka:cascade times\n",
    "    #estop:electronic stopping power,obtained by lammps logfile output stable 'f_elstop'\n",
    "    #n:number of atoms\n",
    "    #TDE: lattice dis-placement energy\n",
    "    #output: dpa value\n",
    "    Td=E-estop\n",
    "    return npka*0.8*Td/(2*TDE*n)\n",
    "TDEO1=17.44\n",
    "TDEO2=17.38\n",
    "TDEO3=17.07\n",
    "TDEGa1=22.91\n",
    "TDEGa2=20.04\n",
    "mO=15.9994\n",
    "mGa=69.72\n",
    "TDEga2o3=((TDEO1+TDEO2+TDEO3)*mO+(TDEGa1+TDEGa2)*mGa)/(2*mGa+3*mO)\n",
    "print(TDEga2o3)\n",
    "def PKA(E,dpa,estop,n,TDE):\n",
    "    #input E:recoil energy\n",
    "        #dpa:dpa value\n",
    "        #estop:electronic stopping power,obtained by lammps logfile output stable 'f_elstop'\n",
    "        #n:number of atoms\n",
    "        #TDE: lattice dis-placement energy\n",
    "    #output: npka cascade times\n",
    "    Td=E-estop\n",
    "    return (2*TDE*n*dpa)/(0.8*Td)\n"
   ]
  },
  {
   "cell_type": "code",
   "execution_count": 122,
   "id": "55b6e59e",
   "metadata": {
    "scrolled": true
   },
   "outputs": [],
   "source": [
    "\n",
    "pkal=[]\n",
    "for i in range(len(srim_dpa)):\n",
    "    dpa=srim_dpa.iloc[i]\n",
    "    #print(dpa)\n",
    "    pka_dpa=PKA(1500,dpa,193.294,81920,TDEga2o3)\n",
    " \n",
    "    pka=round(pka_dpa / 10) * 10\n",
    "    #print(pka_dpa,pka)\n",
    "    pkal.append(pka)\n"
   ]
  },
  {
   "cell_type": "code",
   "execution_count": 123,
   "id": "6bdbc220",
   "metadata": {},
   "outputs": [
    {
     "name": "stdout",
     "output_type": "stream",
     "text": [
      "47 [100, 110, 120, 130, 130, 130, 140, 140, 140, 150, 150, 150, 150, 140, 140, 130, 130, 120, 110, 100, 90, 80, 70, 60, 50, 50, 40, 30, 20, 20, 20, 10, 10, 10, 0, 0, 0, 0, 0, 0, 0, 0, 0, 0, 0, 0, 0]\n",
      "Repeated values and their counts:\n",
      "100: 2 times\n",
      "110: 2 times\n",
      "120: 2 times\n",
      "130: 5 times\n",
      "140: 5 times\n",
      "150: 4 times\n",
      "50: 2 times\n",
      "20: 3 times\n",
      "10: 3 times\n",
      "0: 13 times\n"
     ]
    }
   ],
   "source": [
    "#check repeat value\n",
    "\n",
    "from collections import Counter\n",
    "\n",
    "my_list = pkal\n",
    "# Count occurrences of each value\n",
    "counts = Counter(my_list)\n",
    "\n",
    "# Find repeated values and their counts\n",
    "repeat_values = {value: count for value, count in counts.items() if count > 1}\n",
    "print(len(my_list),my_list)\n",
    "print(\"Repeated values and their counts:\")\n",
    "for value, count in repeat_values.items():\n",
    "    print(f\"{value}: {count} times\")\n",
    "\n"
   ]
  },
  {
   "cell_type": "code",
   "execution_count": null,
   "id": "3c5ad2b9",
   "metadata": {},
   "outputs": [],
   "source": [
    "for i in 100, 110, 120, 130, 130, 130, 140, 140, 140, 150, 150, 150, 150, 140, 140, 130, 130, 120, 110, 100, 90, 80, 70, 60, 50, 50, 40, 30, 20, 20, 20, 10\n",
    "do\n",
    "  scp -r heruhe@turso.cs.helsinki.fi:/wrk-vakka/users/heruhe/ga2o3/overlapping/cascade_anneal/cascade_anneal/small1500ev/out/data.lastframe-\"$i\" .\n",
    "done\n",
    "\n"
   ]
  },
  {
   "cell_type": "code",
   "execution_count": 80,
   "id": "34b71a09",
   "metadata": {},
   "outputs": [
    {
     "name": "stdout",
     "output_type": "stream",
     "text": [
      "{150: [1, 21], 200: [4, 18], 230: [5, 15, 16], 250: [6, 13], 260: [7, 8, 10, 12], 270: [9, 11], 20: [30, 31], 10: [32, 33, 34], 0: [35, 36, 37, 38, 39]}\n",
      "[100, 150, 170, 190, 200, 230, 250, 260, 261, 270, 262, 271, 263, 251, 240, 231, 232, 220, 201, 180, 160, 151, 130, 110, 90, 70, 60, 50, 40, 30, 20, 21, 10, 11, 12, 0, 1, 2, 3, 4]\n"
     ]
    }
   ],
   "source": [
    "\n",
    "# Create a dictionary to store the indices of repeated values\n",
    "repeated_indices = {}\n",
    "for i, value in enumerate(my_list):\n",
    "    if my_list.count(value) > 1:\n",
    "        if value not in repeated_indices:\n",
    "            repeated_indices[value] = []\n",
    "        repeated_indices[value].append(i)\n",
    "print(repeated_indices)\n",
    "# Modify the list by incrementing the second occurrence of each repeated value\n",
    "for value, indices in repeated_indices.items():\n",
    "    pkal[indices[1]] = value + 1\n",
    "    try:\n",
    "        pkal[indices[2]] = value + 2\n",
    "        pkal[indices[3]] = value + 3\n",
    "        pkal[indices[4]] = value + 4\n",
    "    except:\n",
    "        continue\n",
    "#rename the file to 1 to 40\n",
    "print(pkal)"
   ]
  },
  {
   "cell_type": "code",
   "execution_count": 82,
   "id": "92bf63ae",
   "metadata": {},
   "outputs": [],
   "source": [
    "\n",
    "path = '/home/heruhe/Desktop/Ga2o3/combine_cells/2_10_13_fluence/2_10_13'\n",
    "os.chdir(path)\n",
    "\n",
    "i = 1\n",
    "for pka in pkal:\n",
    "    fn0 = 'data.lastframe-{}'.format(pka)\n",
    "    fn_m='data.frame-{}'.format(pka)\n",
    "    fn_new = 'data.lastframe-{}'.format(i)\n",
    "    #os.system('mv {} {}'.format(fn0, fn_m))\n",
    "    os.system('mv {} {}'.format(fn_m, fn_new))\n",
    "    i += 1"
   ]
  }
 ],
 "metadata": {
  "kernelspec": {
   "display_name": "Python 3 (ipykernel)",
   "language": "python",
   "name": "python3"
  },
  "language_info": {
   "codemirror_mode": {
    "name": "ipython",
    "version": 3
   },
   "file_extension": ".py",
   "mimetype": "text/x-python",
   "name": "python",
   "nbconvert_exporter": "python",
   "pygments_lexer": "ipython3",
   "version": "3.10.12"
  }
 },
 "nbformat": 4,
 "nbformat_minor": 5
}
