{
 "cells": [
  {
   "cell_type": "code",
   "execution_count": 139,
   "id": "77f54406",
   "metadata": {},
   "outputs": [],
   "source": [
    "#calculate dpa through SRIM simulation\n",
    "import pandas as pd\n",
    "import numpy as np\n",
    "import matplotlib.pyplot as plt\n",
    "import os \n"
   ]
  },
  {
   "cell_type": "code",
   "execution_count": 85,
   "id": "f7210f99",
   "metadata": {},
   "outputs": [
    {
     "name": "stdout",
     "output_type": "stream",
     "text": [
      "0       5.001\n",
      "1      10.001\n",
      "2      15.001\n",
      "3      20.001\n",
      "4      25.001\n",
      "       ...   \n",
      "95    480.001\n",
      "96    485.001\n",
      "97    490.001\n",
      "98    495.001\n",
      "99    500.001\n",
      "Name: depth, Length: 100, dtype: float64\n",
      "      depth      V_Ni        V1        V2       dpa\n",
      "0     5.001  0.061045  0.373530  0.993758  0.302293\n",
      "1    10.001  0.064756  0.500043  1.340790  0.403299\n",
      "2    15.001  0.066107  0.581600  1.588960  0.473369\n",
      "3    20.001  0.069250  0.621905  1.703720  0.506852\n",
      "4    25.001  0.071056  0.662624  1.816780  0.539780\n",
      "..      ...       ...       ...       ...       ...\n",
      "95  480.001  0.000000  0.000228  0.000768  0.000211\n",
      "96  485.001  0.000000  0.000192  0.000619  0.000172\n",
      "97  490.001  0.000000  0.000057  0.000135  0.000041\n",
      "98  495.001  0.000000  0.000071  0.000121  0.000041\n",
      "99  500.001  0.000000  0.000107  0.000213  0.000068\n",
      "\n",
      "[100 rows x 5 columns]\n",
      "0     0.302293\n",
      "2     0.473369\n",
      "4     0.539780\n",
      "6     0.611059\n",
      "8     0.641994\n",
      "10    0.725842\n",
      "12    0.770817\n",
      "14    0.805314\n",
      "16    0.825819\n",
      "18    0.838632\n",
      "20    0.826866\n",
      "22    0.834870\n",
      "24    0.820786\n",
      "26    0.776077\n",
      "28    0.759578\n",
      "30    0.732599\n",
      "32    0.725073\n",
      "34    0.676910\n",
      "36    0.633991\n",
      "38    0.552558\n",
      "40    0.510005\n",
      "42    0.458955\n",
      "44    0.411724\n",
      "46    0.344467\n",
      "48    0.301225\n",
      "50    0.233242\n",
      "52    0.188311\n",
      "54    0.147792\n",
      "56    0.127505\n",
      "58    0.100129\n",
      "60    0.077739\n",
      "62    0.057590\n",
      "64    0.042805\n",
      "66    0.027955\n",
      "68    0.021172\n",
      "70    0.010521\n",
      "72    0.007474\n",
      "74    0.004456\n",
      "76    0.003721\n",
      "78    0.004043\n",
      "Name: dpa, dtype: float64\n"
     ]
    },
    {
     "name": "stderr",
     "output_type": "stream",
     "text": [
      "/usr/lib/python3/dist-packages/pandas/util/_decorators.py:311: ParserWarning: Falling back to the 'python' engine because the 'c' engine does not support regex separators (separators > 1 char and different from '\\s+' are interpreted as regex); you can avoid this warning by specifying engine='python'.\n",
      "  return func(*args, **kwargs)\n"
     ]
    },
    {
     "data": {
      "image/png": "[encoded data removed]",
      "text/plain": [
       "<Figure size 432x288 with 1 Axes>"
      ]
     },
     "metadata": {
      "needs_background": "light"
     },
     "output_type": "display_data"
    }
   ],
   "source": [
    "#full cascade\n",
    "path='/home/heruhe/Desktop/Ga2o3/combine_cells/SRIM/SRIM_DATA/full_cascade_beta_ga2o3_ni_400kev_2101'\n",
    "fn=path+'/VACANCY.txt'\n",
    "# Read the CSV file with specified parameters\n",
    "df = pd.read_csv(fn, skiprows=29, nrows=100, sep='  ', names=['depth','V_Ni' ,'V1', 'V2'],header=None)\n",
    "\n",
    "# Assuming 'df' is your DataFrame\n",
    "for column in df.columns:\n",
    "    # Replace commas with dots as decimal separator\n",
    "    df[column] = df[column].str.replace(',', '.')\n",
    "    \n",
    "    # Convert to numeric\n",
    "    df[column] = pd.to_numeric(df[column], errors='coerce')\n",
    "df['depth']=df['depth']/10\n",
    "print(df['depth'])\n",
    "flunce=2*10**14\n",
    "#flunce=1*10**15\n",
    "atom_density=9.45*10**22\n",
    "df['dpa']=(df['V_Ni']+df['V1']+df['V2'])*flunce/atom_density*10**8\n",
    "plt.plot(df['depth'],df['dpa'])\n",
    "print(df)\n",
    "# Extract every two rows to obtain srim dpa\n",
    "srim_dpa = df.iloc[::2].iloc[:40]['dpa']\n",
    "print(srim_dpa)"
   ]
  },
  {
   "cell_type": "code",
   "execution_count": 39,
   "id": "e53897c8",
   "metadata": {},
   "outputs": [
    {
     "name": "stderr",
     "output_type": "stream",
     "text": [
      "/usr/lib/python3/dist-packages/pandas/util/_decorators.py:311: ParserWarning: Falling back to the 'python' engine because the 'c' engine does not support regex separators (separators > 1 char and different from '\\s+' are interpreted as regex); you can avoid this warning by specifying engine='python'.\n",
      "  return func(*args, **kwargs)\n"
     ]
    }
   ],
   "source": [
    "#quick  calculation\n",
    "path='/home/heruhe/Desktop/Ga2o3/combine_cells/SRIM/SRIM_DATA/quick_cascade-beta-ga2o3-Ni-400kev-3000'\n",
    "\n",
    "fn=path+'/VACANCY.txt'\n",
    "# Read the CSV file with specified parameters\n",
    "df = pd.read_csv(fn, skiprows=27, nrows=100, sep='  ', names=['depth','V1', 'V2'],header=None)\n",
    "\n",
    "# Assuming 'df' is your DataFrame\n",
    "for column in df.columns:\n",
    "    # Replace commas with dots as decimal separator\n",
    "    df[column] = df[column].str.replace(',', '.')\n",
    "    \n",
    "    # Convert to numeric\n",
    "    df[column] = pd.to_numeric(df[column], errors='coerce')\n",
    "\n",
    "#print(df['V2'])\n",
    "df['depth']=df['depth']/100\n",
    "flunce=1*10**15\n",
    "atom_density=9.45*10**22\n",
    "df['dpa']=(df['V1']+df['V2'])*flunce/atom_density*10**8\n",
    "#plt.plot(df['depth'],df['dpa'])\n"
   ]
  },
  {
   "cell_type": "code",
   "execution_count": 40,
   "id": "08a21ee6",
   "metadata": {},
   "outputs": [
    {
     "name": "stdout",
     "output_type": "stream",
     "text": [
      "21.475 17.296666666666667\n"
     ]
    }
   ],
   "source": [
    "\n",
    "#function to calculate displacements-per-atom (dpa)\n",
    "def DPA(E,npka,estop,n,TDE):\n",
    "    #input E:recoil energy\n",
    "    #npka:cascade times\n",
    "    #estop:electronic stopping power,obtained by lammps logfile output stable 'f_elstop'\n",
    "    #n:number of atoms\n",
    "    #TDE: lattice dis-placement energy\n",
    "    #output: dpa value\n",
    "    Td=E-estop\n",
    "    return npka*0.8*Td/(2*TDE*n)\n",
    "TDEO1=17.44\n",
    "TDEO2=17.38\n",
    "TDEO3=17.07\n",
    "TDEGa1=22.91\n",
    "TDEGa2=20.04\n",
    "mO=15.9994\n",
    "mGa=69.72\n",
    "TDEga2o3=((TDEO1+TDEO2+TDEO3)*mO+(TDEGa1+TDEGa2)*mGa)/(2*mGa+3*mO)\n",
    "print((TDEGa1+TDEGa2)/2,(TDEO1+TDEO2+TDEO3)/3)"
   ]
  },
  {
   "cell_type": "code",
   "execution_count": 92,
   "id": "3c048166",
   "metadata": {},
   "outputs": [
    {
     "data": {
      "text/plain": [
       "0     0.302293\n",
       "2     0.473369\n",
       "4     0.539780\n",
       "6     0.611059\n",
       "8     0.641994\n",
       "10    0.725842\n",
       "12    0.770817\n",
       "14    0.805314\n",
       "16    0.825819\n",
       "18    0.838632\n",
       "20    0.826866\n",
       "22    0.834870\n",
       "24    0.820786\n",
       "26    0.776077\n",
       "28    0.759578\n",
       "30    0.732599\n",
       "32    0.725073\n",
       "34    0.676910\n",
       "36    0.633991\n",
       "38    0.552558\n",
       "40    0.510005\n",
       "42    0.458955\n",
       "44    0.411724\n",
       "46    0.344467\n",
       "48    0.301225\n",
       "50    0.233242\n",
       "52    0.188311\n",
       "54    0.147792\n",
       "56    0.127505\n",
       "58    0.100129\n",
       "60    0.077739\n",
       "62    0.057590\n",
       "64    0.042805\n",
       "66    0.027955\n",
       "68    0.021172\n",
       "70    0.010521\n",
       "72    0.007474\n",
       "74    0.004456\n",
       "76    0.003721\n",
       "78    0.004043\n",
       "Name: dpa, dtype: float64"
      ]
     },
     "execution_count": 92,
     "metadata": {},
     "output_type": "execute_result"
    }
   ],
   "source": [
    "DPA(1500,10,193.294,81920,TDEga2o3)\n",
    "srim_dpa"
   ]
  },
  {
   "cell_type": "code",
   "execution_count": 132,
   "id": "55b6e59e",
   "metadata": {
    "scrolled": true
   },
   "outputs": [
    {
     "name": "stdout",
     "output_type": "stream",
     "text": [
      "[970, 1510, 1720, 1950, 2050, 2320, 2460, 2570, 2640, 2680, 2640, 2670, 2620, 2480, 2430, 2340, 2320, 2160, 2030, 1770, 1630, 1470, 1320, 1100, 960, 740, 600, 470, 410, 320, 250, 180, 140, 90, 70, 30, 20, 10, 10, 10]\n"
     ]
    }
   ],
   "source": [
    "\n",
    "pkal=[]\n",
    "for i in range(40):\n",
    "    dpa=srim_dpa.iloc[i]\n",
    "    #print(dpa)\n",
    "    for pka in range(0,3001,10):\n",
    "        pka_dpa=DPA(1500,pka,193.294,81920,TDEga2o3)\n",
    "        delt=np.abs(pka_dpa-dpa)\n",
    "        #print(pka,delt)\n",
    "        if delt<=0.002:\n",
    "            #print(dpa,c_dpa,pka)\n",
    "            pkal.append(pka)\n",
    "            break\n",
    "    \n",
    "print(pkal)\n"
   ]
  },
  {
   "cell_type": "code",
   "execution_count": 130,
   "id": "6bdbc220",
   "metadata": {},
   "outputs": [
    {
     "name": "stdout",
     "output_type": "stream",
     "text": [
      "Repeated values and their counts:\n",
      "2320: 2 times\n",
      "2640: 2 times\n",
      "10: 3 times\n"
     ]
    }
   ],
   "source": [
    "#check repeat value\n",
    "\n",
    "from collections import Counter\n",
    "\n",
    "my_list = pkal\n",
    "# Count occurrences of each value\n",
    "counts = Counter(my_list)\n",
    "\n",
    "# Find repeated values and their counts\n",
    "repeat_values = {value: count for value, count in counts.items() if count > 1}\n",
    "\n",
    "print(\"Repeated values and their counts:\")\n",
    "for value, count in repeat_values.items():\n",
    "    print(f\"{value}: {count} times\")\n",
    "\n"
   ]
  },
  {
   "cell_type": "code",
   "execution_count": null,
   "id": "3c5ad2b9",
   "metadata": {},
   "outputs": [],
   "source": [
    "for i in 10.20.30.70.90.140.180.250.320.410.470.600.740.960.970.1100.1320.1470.1510.1630.1720.1770.1950.2030.2050.2160.2320.2340.2430.2460.2480.2570.2620.2640.2670.2680\n",
    "do                                             \n",
    "  scp -r heruhe@turso.cs.helsinki.fi:/wrk-vakka/users/heruhe/ga2o3/overlapping/cascade_anneal/cascade_anneal/small1500ev/out/data.lastframe-\"$i\" .\n",
    "done                                        \n",
    "\n"
   ]
  },
  {
   "cell_type": "code",
   "execution_count": null,
   "id": "34b71a09",
   "metadata": {},
   "outputs": [],
   "source": []
  },
  {
   "cell_type": "code",
   "execution_count": 144,
   "id": "92bf63ae",
   "metadata": {},
   "outputs": [
    {
     "name": "stdout",
     "output_type": "stream",
     "text": [
      "{2320: [5, 16], 2640: [8, 10], 10: [37, 38, 39]}\n"
     ]
    }
   ],
   "source": [
    "pkal = [970, 1510, 1720, 1950, 2050, 2320, 2460, 2570, 2640, 2680, 2640, 2670, 2620, 2480, 2430, 2340, 2320, 2160, 2030, 1770, 1630, 1470, 1320, 1100, 960, 740, 600, 470, 410, 320, 250, 180, 140, 90, 70, 30, 20, 10, 10, 10]\n",
    "\n",
    "# Create a dictionary to store the indices of repeated values\n",
    "repeated_indices = {}\n",
    "for i, value in enumerate(my_list):\n",
    "    if my_list.count(value) > 1:\n",
    "        if value not in repeated_indices:\n",
    "            repeated_indices[value] = []\n",
    "        repeated_indices[value].append(i)\n",
    "print(repeated_indices)\n",
    "# Modify the list by incrementing the second occurrence of each repeated value\n",
    "for value, indices in repeated_indices.items():\n",
    "    pkal[indices[1]] = value + 1\n",
    "    try:\n",
    "        pkal[indices[2]] = value + 2\n",
    "        pkal[indices[3]] = value + 3\n",
    "        pkal[indices[4]] = value + 4\n",
    "    except:\n",
    "        continue\n",
    "#rename the file to 1 to 40\n",
    "path = '/home/heruhe/Desktop/Ga2o3/combine_cells/2_10_14flunce/40_boxes/2_10_14_boxes'\n",
    "os.chdir(path)\n",
    "\n",
    "i = 1\n",
    "for pka in pkal:\n",
    "    fn0 = 'data.lastframe-{}'.format(pka)\n",
    "    fn_m='data.frame-{}'.format(pka)\n",
    "    fn_new = 'data.lastframe-{}'.format(i)\n",
    "    #os.system('mv {} {}'.format(fn0, fn_m))\n",
    "    os.system('cp {} {}'.format(fn_m, fn_new))\n",
    "    i += 1"
   ]
  }
 ],
 "metadata": {
  "kernelspec": {
   "display_name": "Python 3 (ipykernel)",
   "language": "python",
   "name": "python3"
  },
  "language_info": {
   "codemirror_mode": {
    "name": "ipython",
    "version": 3
   },
   "file_extension": ".py",
   "mimetype": "text/x-python",
   "name": "python",
   "nbconvert_exporter": "python",
   "pygments_lexer": "ipython3",
   "version": "3.10.12"
  }
 },
 "nbformat": 4,
 "nbformat_minor": 5
}
