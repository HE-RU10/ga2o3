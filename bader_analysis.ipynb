{
 "cells": [
  {
   "cell_type": "code",
   "execution_count": 1,
   "id": "cfa4ed72",
   "metadata": {},
   "outputs": [],
   "source": [
    "import pandas as pd\n",
    "import numpy as np\n",
    "import matplotlib.pyplot as plt\n",
    "import os \n",
    "%matplotlib inline\n",
    "import seaborn as sns"
   ]
  },
  {
   "cell_type": "code",
   "execution_count": 25,
   "id": "07b2b991",
   "metadata": {},
   "outputs": [],
   "source": [
    "path1='/home/heruhe/Desktop/Ga2o3/Frenkelpair/FP_beta/DFT/320atoms/mix'\n",
    "os.chdir(path1)\n",
    "df=pd.read_csv('ACF_75.dat', delim_whitespace=True, skiprows=[1], index_col=0,nrows=320)\n",
    "df.drop(columns=df.columns[-2:],axis=1, inplace=True)\n",
    "df.columns=['X', 'Y', 'Z', 'CHARGE', 'MIN DIST', 'ATOMIC VOL']\n",
    "mixGa=df['CHARGE'][0:128]\n",
    "mixO=df['CHARGE'][129:]"
   ]
  },
  {
   "cell_type": "code",
   "execution_count": 27,
   "id": "f5442773",
   "metadata": {},
   "outputs": [],
   "source": [
    "path1='/home/heruhe/Desktop/Ga2o3/Frenkelpair/FP_beta/DFT/320atoms/O'\n",
    "os.chdir(path1)\n",
    "df=pd.read_csv('ACF_95.dat', delim_whitespace=True, skiprows=[1], index_col=0,nrows=320)\n",
    "df.drop(columns=df.columns[-2:],axis=1, inplace=True)\n",
    "df.columns=['X', 'Y', 'Z', 'CHARGE', 'MIN DIST', 'ATOMIC VOL']\n",
    "OGa=df['CHARGE'][0:128]\n",
    "OO=df['CHARGE'][129:]"
   ]
  },
  {
   "cell_type": "code",
   "execution_count": 75,
   "id": "21892675",
   "metadata": {},
   "outputs": [],
   "source": [
    "path1='/home/heruhe/Desktop/Ga2o3/Frenkelpair/FP_beta/DFT/320atoms/Ga'\n",
    "os.chdir(path1)\n",
    "df=pd.read_csv('ACF_60.dat', delim_whitespace=True, skiprows=[1], index_col=0,nrows=320)\n",
    "df.drop(columns=df.columns[-2:],axis=1, inplace=True)\n",
    "df.columns=['X', 'Y', 'Z', 'CHARGE', 'MIN DIST', 'ATOMIC VOL']\n",
    "GaGa=df['CHARGE'][0:128]\n",
    "GaO=df['CHARGE'][129:]\n",
    "df2=pd.read_csv('ACF_5.dat', delim_whitespace=True, skiprows=[1], index_col=0,nrows=320)\n",
    "df2.drop(columns=df2.columns[-2:],axis=1, inplace=True)\n",
    "df2.columns=['X', 'Y', 'Z', 'CHARGE', 'MIN DIST', 'ATOMIC VOL']\n",
    "GaGa2=df2['CHARGE'][0:128]\n",
    "GaO2=df2['CHARGE'][129:]"
   ]
  },
  {
   "cell_type": "code",
   "execution_count": 71,
   "id": "56d650cf",
   "metadata": {},
   "outputs": [
    {
     "data": {
      "text/plain": [
       "'ParticleIdentifier==141||ParticleIdentifier==144||ParticleIdentifier==152||ParticleIdentifier==154||ParticleIdentifier==164||ParticleIdentifier==191||ParticleIdentifier==194||ParticleIdentifier==199||ParticleIdentifier==214||ParticleIdentifier==218||'"
      ]
     },
     "execution_count": 71,
     "metadata": {},
     "output_type": "execute_result"
    },
    {
     "data": {
      "image/png": "[encoded data removed]",
      "text/plain": [
       "<Figure size 432x288 with 1 Axes>"
      ]
     },
     "metadata": {
      "needs_background": "light"
     },
     "output_type": "display_data"
    }
   ],
   "source": [
    "plt.hist(mixGa,density=True,label='mix')\n",
    "#plt.hist(mixO)\n",
    "plt.hist(GaGa,density=True,label='Ga')\n",
    "#plt.hist(GaO)\n",
    "OGa_small=OGa[OGa<11.3]\n",
    "\n",
    "plt.hist(OGa_small,density=True,label='O')\n",
    "plt.legend()\n",
    "expression=''\n",
    "for i in OGa[OGa>11.3].index:\n",
    "    expression=expression+'ParticleIdentifier=='+str(i)+'||'\n",
    "expression\n",
    "expression=''\n",
    "for i in OO[OO<7].index:\n",
    "    expression=expression+'ParticleIdentifier=='+str(i)+'||'\n",
    "expression\n"
   ]
  },
  {
   "cell_type": "code",
   "execution_count": 69,
   "id": "bbbd34e9",
   "metadata": {},
   "outputs": [
    {
     "data": {
      "text/plain": [
       "<matplotlib.legend.Legend at 0x7ff610d334f0>"
      ]
     },
     "execution_count": 69,
     "metadata": {},
     "output_type": "execute_result"
    },
    {
     "data": {
      "image/png": "[encoded data removed]",
      "text/plain": [
       "<Figure size 432x288 with 1 Axes>"
      ]
     },
     "metadata": {
      "needs_background": "light"
     },
     "output_type": "display_data"
    }
   ],
   "source": [
    "plt.hist(mixO,density=True,label='mix')\n",
    "#plt.hist(mixO)\n",
    "plt.hist(GaO,density=True,label='Ga')\n",
    "#plt.hist(GaO)\n",
    "OO_large=OO[OO>=7]\n",
    "plt.hist(OO_large,density=True,label='O')\n",
    "plt.legend()"
   ]
  },
  {
   "cell_type": "code",
   "execution_count": 79,
   "id": "ba0eeeca",
   "metadata": {},
   "outputs": [
    {
     "data": {
      "text/plain": [
       "<matplotlib.legend.Legend at 0x7ff610b1c460>"
      ]
     },
     "execution_count": 79,
     "metadata": {},
     "output_type": "execute_result"
    },
    {
     "data": {
      "image/png": "[encoded data removed]",
      "text/plain": [
       "<Figure size 432x288 with 1 Axes>"
      ]
     },
     "metadata": {
      "needs_background": "light"
     },
     "output_type": "display_data"
    }
   ],
   "source": [
    "plt.hist(GaGa2,density=True,label='Ga5')\n",
    "#plt.hist(mixO)\n",
    "plt.hist(GaGa,density=True,label='Ga60')\n",
    "\n",
    "plt.legend()"
   ]
  }
 ],
 "metadata": {
  "kernelspec": {
   "display_name": "Python 3 (ipykernel)",
   "language": "python",
   "name": "python3"
  },
  "language_info": {
   "codemirror_mode": {
    "name": "ipython",
    "version": 3
   },
   "file_extension": ".py",
   "mimetype": "text/x-python",
   "name": "python",
   "nbconvert_exporter": "python",
   "pygments_lexer": "ipython3",
   "version": "3.10.12"
  }
 },
 "nbformat": 4,
 "nbformat_minor": 5
}
