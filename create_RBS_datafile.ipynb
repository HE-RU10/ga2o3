{
 "cells": [
  {
   "cell_type": "code",
   "execution_count": 15,
   "id": "7697415a",
   "metadata": {},
   "outputs": [],
   "source": [
    "#change ovito export xyz file to RBS simulation input data file\n",
    "#ovito export xyz file format is :\n",
    "#25200000\n",
    "#Lattice=\"0.0 0.0 5824.86343385 0.0 211.4 0.0 215.0 0.0 0.0\" Origin=\"-86.0 -90.6 -2900.7819900573\" Properties=pos:R:3:species:S:1:id:I:1\n",
    "#-79.5354212843 -89.9262116686 -2899.4576111988 Ga 1\n",
    "#-80.8037735621 -88.2192198017 -2890.5819782791 Ga 2\n",
    "#-85.4477714422 -86.5041908662 -2899.4191513497 Ga 3\n",
    "#RBS data file example:\n",
    "#25200000\n",
    "#Lattice=\"215.00000 0.00000 0.00000 0.00000 214.4 0.00000 0.00000 0.00000 5824.86343385\"\n",
    "#Ga -79.5354212843 -89.9262116686 -2899.4576111988  1\n",
    "#Ga -80.8037735621 -88.2192198017 -2890.5819782791  1\n",
    "#Ga -80.8037735621 -88.2192198017 -2890.5819782791  1\n"
   ]
  },
  {
   "cell_type": "code",
   "execution_count": 3,
   "id": "13ef55d3",
   "metadata": {},
   "outputs": [],
   "source": [
    "import pandas as pd\n",
    "import numpy as np\n",
    "import os\n",
    "import re"
   ]
  },
  {
   "cell_type": "code",
   "execution_count": 22,
   "id": "e0fdf839",
   "metadata": {},
   "outputs": [
    {
     "name": "stdout",
     "output_type": "stream",
     "text": [
      "Line 1: 3850240\n",
      "Line 2: Lattice=\"100.5915804555 0.0 0.0 0.0 0.0 4495.5031814909 0.0 94.7643495008 0.0\" Origin=\"0.0 0.0 -2199.9270888147\" Properties=pos:R:3:species:S:1:id:I:1\n",
      "Line 3: 70.9942148347 3.5376494221 -2177.7914012973 O1 1\n"
     ]
    }
   ],
   "source": [
    "\n",
    "# Replace 'your_file.txt' with the actual path to your file\n",
    "file_path = '/home/heruhe/Desktop/Ga2o3/RBS/gamma110/gamma110.in'\n",
    "file_path='/home/heruhe/Desktop/Ga2o3/combine_cells/2680PKA'\n",
    "try:\n",
    "    with open(file_path, 'r') as file:\n",
    "        for i, line in enumerate(file):\n",
    "            if i < 3:\n",
    "                print(\"Line {}: {}\".format(i + 1, line.strip())) # strip() removes leading/trailing whitespace\n",
    "                \n",
    "            else:\n",
    "                break\n",
    "except FileNotFoundError:\n",
    "    print(\"File not found:\", file_path)\n",
    "except Exception as e:\n",
    "    print(\"An error occurred:\", str(e))"
   ]
  },
  {
   "cell_type": "code",
   "execution_count": 23,
   "id": "15bba12b",
   "metadata": {},
   "outputs": [],
   "source": [
    "df=pd.read_csv(file_path,skiprows=2,header=None,sep='\\s+')"
   ]
  },
  {
   "cell_type": "code",
   "execution_count": 24,
   "id": "b94f0941",
   "metadata": {},
   "outputs": [],
   "source": [
    "df.columns=['x','y','z','type','ID']\n"
   ]
  },
  {
   "cell_type": "code",
   "execution_count": 26,
   "id": "e5bd4669",
   "metadata": {},
   "outputs": [
    {
     "name": "stdout",
     "output_type": "stream",
     "text": [
      "[0.0, 0.0, -2199.9270888147]\n",
      "[[ 100.59158046    0.            0.        ]\n",
      " [   0.            0.         4495.50318149]\n",
      " [   0.           94.7643495     0.        ]]\n",
      "Conversion complete.\n"
     ]
    }
   ],
   "source": [
    "\n",
    "# Function to convert OVITO XYZ format to RBS format for a single line\n",
    "#Move the cell origin to zero\n",
    "def convert_xyz_to_rbs(line,bx,by,bz):\n",
    "    parts = line.split()\n",
    "    if len(parts) == 5:\n",
    "        x, y, z, species, id_val = parts\n",
    "        x=float(x)-bx\n",
    "        y=float(y)-by\n",
    "        z=float(z)-bz\n",
    "        if species=='Ga1':\n",
    "            id_val=1\n",
    "        if species=='Ga2':\n",
    "            id_val=2\n",
    "        if species=='O1':\n",
    "            id_val=3\n",
    "        if species=='O2':\n",
    "            id_val=4\n",
    "        if species=='O3':\n",
    "            id_val=5\n",
    "\n",
    "        return f\"{species} {x} {y} {z} {id_val}\\n\"\n",
    "    else:\n",
    "        return None\n",
    "    \n",
    "    \n",
    "\n",
    "\n",
    "\n",
    "# Replace 'input.xyz' with your input XYZ file and 'output.rbs' with your desired output RBS file\n",
    "input_file = file_path\n",
    "output_file = '/home/heruhe/Desktop/Ga2o3/combine_cells/2680PKA.in'\n",
    "\n",
    "try:\n",
    "    with open(input_file, 'r') as infile, open(output_file, 'w') as outfile:\n",
    "        # Copy the first two lines as is (header lines)\n",
    "        for i, line in enumerate(infile):\n",
    "            # Copy the first two lines as is (header lines)\n",
    "            if i ==0:\n",
    "                #print(line)\n",
    "                outfile.write(line)\n",
    "            if i==1:\n",
    "                # Define a regular expression pattern to match 'Lattice=\"...\"' and capture the content inside the quotes\n",
    "                pattern = r'Lattice=\"([^\"]*)\"'\n",
    "                # Define a regular expression pattern to match 'Origin=\"...\"' and capture the content inside the quotes\n",
    "                pattern2 = r'Origin=\"([^\"]*)\"'\n",
    "\n",
    "                # Use re.search() to find the pattern in the input string\n",
    "                match = re.search(pattern, line)\n",
    "                match2 = re.search(pattern2, line)\n",
    "                \n",
    "                # Check if a match was found\n",
    "                if match and match2:\n",
    "                    lattice_value =match.group(1) \n",
    "                    numbers = [float(x) for x in lattice_value.split()]\n",
    "                    origin_value =match2.group(1) \n",
    "                    numbers2 = [float(x) for x in origin_value.split()]\n",
    "                    print(numbers2)\n",
    "                    # Create a 3x3 matrix from the list of numbers\n",
    "                    matrix = np.array(numbers).reshape(3, 3)\n",
    "\n",
    "                    # Print the resulting matrix\n",
    "                    print(matrix)\n",
    "                    y=matrix[2][1]\n",
    "                    z=matrix[1][2]\n",
    "                    x=matrix[0][0]\n",
    "                    move_z=numbers2[2]\n",
    "                    move_y=numbers2[1]\n",
    "                    move_x=numbers2[0]\n",
    "                    \n",
    "                    Lattice='Lattice=\"'+str(x)+' 0.00000'+' 0.00000'+' 0.00000 '+str(y)+' 0.00000'+' 0.00000'+' 0.00000 '+str(z)+'\"\\n'\n",
    "                    outfile.write(Lattice)\n",
    "                else:\n",
    "                    print(\"Lattice not found in the input string.\")\n",
    "            if i>1:\n",
    "                convert_line=convert_xyz_to_rbs(line,move_x,move_y,move_z)\n",
    "                outfile.write(convert_line)\n",
    "                \n",
    "except FileNotFoundError:\n",
    "    print(\"File not found:\", input_file)\n",
    "except Exception as e:\n",
    "    print(\"An error occurred:\", str(e))\n",
    "\n",
    "print(\"Conversion complete.\")"
   ]
  }
 ],
 "metadata": {
  "kernelspec": {
   "display_name": "Python 3 (ipykernel)",
   "language": "python",
   "name": "python3"
  },
  "language_info": {
   "codemirror_mode": {
    "name": "ipython",
    "version": 3
   },
   "file_extension": ".py",
   "mimetype": "text/x-python",
   "name": "python",
   "nbconvert_exporter": "python",
   "pygments_lexer": "ipython3",
   "version": "3.10.12"
  }
 },
 "nbformat": 4,
 "nbformat_minor": 5
}
