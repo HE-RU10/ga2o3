{
 "cells": [
  {
   "cell_type": "code",
   "execution_count": 32,
   "id": "35430157",
   "metadata": {},
   "outputs": [
    {
     "data": {
      "text/plain": [
       "0        0.05086\n",
       "1        0.05086\n",
       "2        0.05293\n",
       "3        0.05493\n",
       "4        0.05686\n",
       "         ...    \n",
       "151    101.00000\n",
       "152     97.57000\n",
       "153     91.45000\n",
       "154     86.16000\n",
       "155     81.55000\n",
       "Name: 2, Length: 156, dtype: float64"
      ]
     },
     "execution_count": 32,
     "metadata": {},
     "output_type": "execute_result"
    }
   ],
   "source": [
    "import pandas as pd\n",
    "import re\n",
    "\n",
    "\n",
    "df1=pd.read_csv('/home/heruhe/Desktop/Ga2o3/cascade/deposite/Ni-Ga2o3_estop.dat',skiprows=3,sep='  ',header=None)\n",
    "df1.iloc[:,2]"
   ]
  },
  {
   "cell_type": "code",
   "execution_count": 33,
   "id": "89006d51",
   "metadata": {},
   "outputs": [],
   "source": [
    "\n",
    "df=pd.read_csv('/home/heruhe/Desktop/Ga2o3/cascade/deposite/elstop.dat',skiprows=4,sep=' ',header=None)\n",
    "df.iloc[:,6]=df1.iloc[:,2]\n",
    "df.to_csv('/home/heruhe/Desktop/Ga2o3/cascade/deposite/Nielstop.dat', index=False,sep=' ')"
   ]
  }
 ],
 "metadata": {
  "kernelspec": {
   "display_name": "Python 3 (ipykernel)",
   "language": "python",
   "name": "python3"
  },
  "language_info": {
   "codemirror_mode": {
    "name": "ipython",
    "version": 3
   },
   "file_extension": ".py",
   "mimetype": "text/x-python",
   "name": "python",
   "nbconvert_exporter": "python",
   "pygments_lexer": "ipython3",
   "version": "3.10.12"
  }
 },
 "nbformat": 4,
 "nbformat_minor": 5
}
