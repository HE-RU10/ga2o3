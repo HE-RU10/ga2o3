{
 "cells": [
  {
   "cell_type": "code",
   "execution_count": 2,
   "id": "ec054b05",
   "metadata": {},
   "outputs": [],
   "source": [
    "import os\n",
    "import pandas as pd\n",
    "import numpy as np\n",
    "\n",
    "def transfer_5type_2type(infile, outfile):\n",
    "    '''\n",
    "    Transfer LAMMPS data file from 5 atom types (Ga Ga O O O) to 2 atom types (Ga O).\n",
    "    \n",
    "    Args:\n",
    "        infile (str): Path to the input file with 5 atom types.\n",
    "        outfile (str): Path to the output file for 2 atom types.\n",
    "        \n",
    "    Returns:\n",
    "        None\n",
    "        \n",
    "    Description:\n",
    "        Reads the LAMMPS data file with 5 atom types and transforms it into a file with 2 atom types.\n",
    "        The input file must have the following structure:\n",
    "        - First 10 lines: Header information\n",
    "        - Atom Type Labels\n",
    "        - Atoms # atomic (data starts from here)\n",
    "        \n",
    "    '''\n",
    "    # Read the input file\n",
    "    with open(infile, 'r') as f:\n",
    "        lines = f.readlines()\n",
    "    \n",
    "    # Modify the content for 2 atom types\n",
    "    modified_lines = []\n",
    "    for line in lines[:10]:\n",
    "        if line.startswith('5 atom types'):\n",
    "            modified_lines.append('2 atom types\\n')\n",
    "        else:\n",
    "            modified_lines.append(line)\n",
    "    modified_lines.append('\\n')\n",
    "    modified_lines.append('1 Ga\\n')\n",
    "    modified_lines.append('2 O\\n')\n",
    "    modified_lines.append('\\n')\n",
    "    modified_lines.append('Atoms  # atomic\\n')\n",
    "    modified_lines.append('\\n')\n",
    "    \n",
    "    # Check if the output file exists and delete it if it does\n",
    "    if os.path.exists(outfile):\n",
    "        os.remove(outfile)\n",
    "    \n",
    "    # Write the modified content to the output file\n",
    "    with open(outfile, 'w') as f:\n",
    "        f.writelines(modified_lines)\n",
    "    \n",
    "    # Perform additional processing (assuming fn is defined elsewhere)\n",
    "    df = pd.read_csv(infile, skiprows=18, sep=' ', header=None, nrows=1280)\n",
    "    atom_t = []\n",
    "    for i in df.iloc[:, 1]:\n",
    "        if i < 3:\n",
    "            atom_t.append(1)\n",
    "        elif i >= 3:\n",
    "            atom_t.append(2)\n",
    "    df.iloc[:, 1] = np.array(atom_t)\n",
    "    df.to_csv(outfile, mode='a', header=False, index=False, sep=' ')\n"
   ]
  },
  {
   "cell_type": "code",
   "execution_count": 3,
   "id": "c092b5b1",
   "metadata": {},
   "outputs": [],
   "source": [
    "path='/Users/ruhe/Desktop/ga2o3/FP/npt/Ga'\n",
    "fn=path+'/600_annealss_beta'    \n",
    "outfile=path+'/600_annealss_beta_2type'\n",
    "transfer_5type_2type(fn,outfile)"
   ]
  },
  {
   "cell_type": "code",
   "execution_count": 11,
   "id": "f23f3443",
   "metadata": {},
   "outputs": [
    {
     "data": {
      "text/plain": [
       "15.37742491301575"
      ]
     },
     "execution_count": 11,
     "metadata": {},
     "output_type": "execute_result"
    }
   ],
   "source": [
    "1.380649 * 10**-23*738/(6.62607015*10**(-34))*1e-12"
   ]
  },
  {
   "cell_type": "code",
   "execution_count": null,
   "id": "009073b9",
   "metadata": {},
   "outputs": [],
   "source": []
  }
 ],
 "metadata": {
  "kernelspec": {
   "display_name": "Python 3 (ipykernel)",
   "language": "python",
   "name": "python3"
  },
  "language_info": {
   "codemirror_mode": {
    "name": "ipython",
    "version": 3
   },
   "file_extension": ".py",
   "mimetype": "text/x-python",
   "name": "python",
   "nbconvert_exporter": "python",
   "pygments_lexer": "ipython3",
   "version": "3.10.10"
  }
 },
 "nbformat": 4,
 "nbformat_minor": 5
}
